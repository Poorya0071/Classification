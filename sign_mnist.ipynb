{
  "nbformat": 4,
  "nbformat_minor": 0,
  "metadata": {
    "colab": {
      "provenance": [],
      "authorship_tag": "ABX9TyP767WhInZrpWhsyz/uyXko",
      "include_colab_link": true
    },
    "kernelspec": {
      "name": "python3",
      "display_name": "Python 3"
    },
    "language_info": {
      "name": "python"
    }
  },
  "cells": [
    {
      "cell_type": "markdown",
      "metadata": {
        "id": "view-in-github",
        "colab_type": "text"
      },
      "source": [
        "<a href=\"https://colab.research.google.com/github/Poorya0071/Classification/blob/main/sign_mnist.ipynb\" target=\"_parent\"><img src=\"https://colab.research.google.com/assets/colab-badge.svg\" alt=\"Open In Colab\"/></a>"
      ]
    },
    {
      "cell_type": "markdown",
      "source": [
        "## sign_mnist"
      ],
      "metadata": {
        "id": "yDY68Q_5rK6X"
      }
    },
    {
      "cell_type": "code",
      "execution_count": null,
      "metadata": {
        "id": "4naxp6DRrHiP"
      },
      "outputs": [],
      "source": [
        "import tensorflow as tf\n",
        "from tensorflow import keras\n",
        "from tensorflow.keras import layers\n",
        "import pathlib\n",
        "import numpy as np\n",
        "import os\n",
        "import matplotlib.pyplot as plt\n",
        "from tensorflow.keras.preprocessing.image import ImageDataGenerator\n",
        "import  pandas as pd\n",
        "\n",
        "\n",
        "train_data = pd.read_csv('sign_mnist_train.csv')\n",
        "test_data = pd.read_csv('sign_mnist_test.csv')\n",
        "\n",
        "print(train_data.head(3))\n",
        "\n",
        "train_labels = train_data['label'].values\n",
        "test_labels = test_data['label'].values\n",
        "# Preprocess the data\n",
        "train_data.drop('label', axis=1, inplace=True)\n",
        "test_data.drop('label', axis=1, inplace=True)\n",
        "\n",
        "X_train = train_data.values.reshape(train_data.shape[0], 28, 28, 1)\n",
        "X_test = test_data.values.reshape(test_data.shape[0], 28, 28, 1)\n",
        "\n",
        "assert X_train[0].shape == (28, 28, 1)\n",
        "\n",
        "X_train = X_train.astype('float64')\n",
        "X_train = X_train/255.0\n",
        "\n",
        "X_test = X_test.astype('float64')\n",
        "X_test = X_test/255.0\n",
        "\n",
        "\n",
        "\n",
        "print(len(np.unique(train_labels)))\n",
        "\n",
        "model = tf.keras.Sequential([\n",
        "        tf.keras.layers.Conv2D(32, (2,2), activation='relu', input_shape=(28, 28, 1)),\n",
        "        tf.keras.layers.MaxPool2D(2,2),\n",
        "        tf.keras.layers.Conv2D(64,  (2,2), activation='relu'),\n",
        "        tf.keras.layers.MaxPool2D(2,2),\n",
        "        tf.keras.layers.Flatten(),\n",
        "        tf.keras.layers.Dropout(0.25),\n",
        "        tf.keras.layers.Dense(512, activation='relu'),\n",
        "        tf.keras.layers.Dense(26, activation='softmax')\n",
        "])\n",
        "one_hot_encoded_train_labels = tf.one_hot(train_labels, depth=26)\n",
        "one_hot_encoded_test_labels = tf.one_hot(test_labels, depth=26)\n",
        "\n",
        "train_datagen = tf.keras.preprocessing.image.ImageDataGenerator(\n",
        "      rescale=1./255,\n",
        "      rotation_range=40,\n",
        "      width_shift_range=0.2,\n",
        "      height_shift_range=0.2,\n",
        "      shear_range=0.2,\n",
        "      zoom_range=0.2,\n",
        "      horizontal_flip=True,\n",
        "      fill_mode='nearest')\n",
        "\n",
        "test_datagen = tf.keras.preprocessing.image.ImageDataGenerator(rescale=1./255)\n",
        "\n",
        "\n",
        "model.compile(optimizer='adam',\n",
        "              loss='categorical_crossentropy',\n",
        "              #loss='sparse_categorical_crossentropy',\n",
        "              metrics=['accuracy'])\n",
        "\n",
        "train_datagen.flow(X_train, one_hot_encoded_train_labels, batch_size=32)\n",
        "test_datagen.flow(X_test, one_hot_encoded_test_labels, batch_size=32)\n",
        "\n",
        "\n",
        "model.fit(X_train, one_hot_encoded_train_labels, epochs=10)\n",
        "\n",
        "model.evaluate(X_test, one_hot_encoded_test_labels)"
      ]
    }
  ]
}
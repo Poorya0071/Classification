{
  "nbformat": 4,
  "nbformat_minor": 0,
  "metadata": {
    "colab": {
      "provenance": [],
      "authorship_tag": "ABX9TyNpmi6RAdIs1A9S/0TmThVY",
      "include_colab_link": true
    },
    "kernelspec": {
      "name": "python3",
      "display_name": "Python 3"
    },
    "language_info": {
      "name": "python"
    }
  },
  "cells": [
    {
      "cell_type": "markdown",
      "metadata": {
        "id": "view-in-github",
        "colab_type": "text"
      },
      "source": [
        "<a href=\"https://colab.research.google.com/github/Poorya0071/Classification/blob/main/Possible_ML%2CDL_models.ipynb\" target=\"_parent\"><img src=\"https://colab.research.google.com/assets/colab-badge.svg\" alt=\"Open In Colab\"/></a>"
      ]
    },
    {
      "cell_type": "markdown",
      "source": [
        "### ML RandomForest"
      ],
      "metadata": {
        "id": "ITF99I6nB3cA"
      }
    },
    {
      "cell_type": "code",
      "source": [
        "import pandas as pd\n",
        "from sklearn.ensemble import RandomForestRegressor\n",
        "import matplotlib.pyplot as plt\n",
        "import numpy as np\n",
        "\n",
        "# Load data\n",
        "df = pd.read_csv(\"delivery_data.csv\")\n",
        "\n",
        "# Split data into features and target\n",
        "X = df[['latitude', 'longitude']]\n",
        "y = df['CO2_emissions']\n",
        "\n",
        "# Train Random Forest regression model\n",
        "rf = RandomForestRegressor(n_estimators=100, random_state=42)\n",
        "rf.fit(X, y)\n",
        "\n",
        "# Predict CO2 emissions for all delivery points\n",
        "df['predicted_CO2_emissions'] = rf.predict(X)\n",
        "\n",
        "# Find optimized delivery route based on predicted CO2 emissions\n",
        "optimized_route = df.sort_values(by='predicted_CO2_emissions')\n",
        "\n",
        "# Plot the original and optimized routes\n",
        "plt.figure(figsize=(12, 8))\n",
        "plt.plot(df['latitude'], df['longitude'], 'o-', label='Original Route')\n",
        "plt.plot(optimized_route['latitude'], optimized_route['longitude'], 'o-', label='Optimized Route')\n",
        "plt.xlabel('Latitude')\n",
        "plt.ylabel('Longitude')\n",
        "plt.legend()\n",
        "plt.show()\n",
        "\n",
        "# Calculate and plot the difference in CO2 emissions between the original and optimized routes\n",
        "diff = df['CO2_emissions'] - optimized_route['CO2_emissions']\n",
        "plt.figure(figsize=(12, 8))\n",
        "plt.bar(np.arange(len(diff)), diff)\n",
        "plt.xlabel('Delivery Point')\n",
        "plt.ylabel('CO2 Emissions Difference')\n",
        "plt.show()\n"
      ],
      "metadata": {
        "id": "f6AIO5wIBvvu"
      },
      "execution_count": null,
      "outputs": []
    },
    {
      "cell_type": "markdown",
      "source": [
        "### Deep Learning TensorFlow"
      ],
      "metadata": {
        "id": "U2YKwOhDBw0V"
      }
    },
    {
      "cell_type": "code",
      "source": [
        "import pandas as pd\n",
        "import tensorflow as tf\n",
        "from sklearn.model_selection import train_test_split\n",
        "from sklearn.preprocessing import StandardScaler\n",
        "\n",
        "\n",
        "# Load data\n",
        "df = pd.read_csv(\"delivery_data.csv\")\n",
        "\n",
        "# Split data into features and target\n",
        "X = df[['latitude', 'longitude']]\n",
        "y = df['CO2_emissions']\n",
        "# Scale the features\n",
        "scaler = StandardScaler()\n",
        "X = scaler.fit_transform(X)\n",
        "\n",
        "# Split data into training and testing sets\n",
        "X_train, X_test, y_train, y_test = train_test_split(X, y, test_size=0.2, random_state=42)\n",
        "\n",
        "# Define and train the model\n",
        "model = tf.keras.Sequential([\n",
        "    tf.keras.layers.Dense(64, activation='relu', input_shape=(2,)),\n",
        "    tf.keras.layers.Dense(1)\n",
        "])\n",
        "model.compile(loss='mean_squared_error', optimizer='adam')\n",
        "model.fit(X_train, y_train, epochs=50, validation_split=0.2)\n",
        "\n",
        "# Evaluate the model on the testing set\n",
        "loss = model.evaluate(X_test, y_test)\n",
        "\n",
        "# Make predictions and find optimized delivery route\n",
        "df['predicted_CO2_emissions'] = model.predict(X)\n",
        "optimized_route = df.sort_values(by='predicted_CO2_emissions')\n",
        "\n",
        "# Plot the original and optimized routes\n",
        "# ... (same as above)\n",
        "\n",
        "# Calculate and plot the difference in CO2 emissions between the original and optimized routes\n",
        "# ... (same as above)\n"
      ],
      "metadata": {
        "id": "sKgZb44WBzaH"
      },
      "execution_count": null,
      "outputs": []
    }
  ]
}
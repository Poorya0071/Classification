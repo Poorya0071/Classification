{
  "nbformat": 4,
  "nbformat_minor": 0,
  "metadata": {
    "colab": {
      "provenance": [],
      "authorship_tag": "ABX9TyNBnloHwJKp8kidIKAyZEIE",
      "include_colab_link": true
    },
    "kernelspec": {
      "name": "python3",
      "display_name": "Python 3"
    },
    "language_info": {
      "name": "python"
    },
    "accelerator": "GPU",
    "gpuClass": "standard"
  },
  "cells": [
    {
      "cell_type": "markdown",
      "metadata": {
        "id": "view-in-github",
        "colab_type": "text"
      },
      "source": [
        "<a href=\"https://colab.research.google.com/github/Poorya0071/Classification/blob/main/Mnist_LR_Study.ipynb\" target=\"_parent\"><img src=\"https://colab.research.google.com/assets/colab-badge.svg\" alt=\"Open In Colab\"/></a>"
      ]
    },
    {
      "cell_type": "markdown",
      "source": [
        "# In this notebook, we change the learning rate for the Mnist dataset to see the results."
      ],
      "metadata": {
        "id": "haHLgWt2ooQu"
      }
    },
    {
      "cell_type": "code",
      "execution_count": 1,
      "metadata": {
        "id": "OkEKZLcSil_I"
      },
      "outputs": [],
      "source": [
        "import tensorflow as tf\n",
        "from tensorflow import keras\n",
        "from tensorflow.keras import layers\n",
        "import numpy as np\n",
        "import os\n",
        "import matplotlib.pyplot as plt"
      ]
    },
    {
      "cell_type": "code",
      "source": [
        "from tensorflow.keras.datasets import fashion_mnist\n",
        "\n",
        "(train_data, train_labels), (test_data, test_labels) = fashion_mnist.load_data()"
      ],
      "metadata": {
        "colab": {
          "base_uri": "https://localhost:8080/"
        },
        "id": "_L7s0gtmir9i",
        "outputId": "3a6bc308-d3c7-4eb2-bea5-a3c4d19d5881"
      },
      "execution_count": 2,
      "outputs": [
        {
          "output_type": "stream",
          "name": "stdout",
          "text": [
            "Downloading data from https://storage.googleapis.com/tensorflow/tf-keras-datasets/train-labels-idx1-ubyte.gz\n",
            "29515/29515 [==============================] - 0s 0us/step\n",
            "Downloading data from https://storage.googleapis.com/tensorflow/tf-keras-datasets/train-images-idx3-ubyte.gz\n",
            "26421880/26421880 [==============================] - 0s 0us/step\n",
            "Downloading data from https://storage.googleapis.com/tensorflow/tf-keras-datasets/t10k-labels-idx1-ubyte.gz\n",
            "5148/5148 [==============================] - 0s 0us/step\n",
            "Downloading data from https://storage.googleapis.com/tensorflow/tf-keras-datasets/t10k-images-idx3-ubyte.gz\n",
            "4422102/4422102 [==============================] - 0s 0us/step\n"
          ]
        }
      ]
    },
    {
      "cell_type": "code",
      "source": [
        "train_data = train_data/255\n",
        "test_data_scaled = test_data/255"
      ],
      "metadata": {
        "id": "KSqGkijxit5c"
      },
      "execution_count": 3,
      "outputs": []
    },
    {
      "cell_type": "code",
      "source": [
        "import pandas as pd\n",
        "label_data = pd.DataFrame(train_labels)\n",
        "label_data.value_counts()"
      ],
      "metadata": {
        "colab": {
          "base_uri": "https://localhost:8080/"
        },
        "id": "PboW0vxOiynn",
        "outputId": "afedc044-77d1-4ef7-a97b-bd3a05e90a1a"
      },
      "execution_count": 4,
      "outputs": [
        {
          "output_type": "execute_result",
          "data": {
            "text/plain": [
              "0    6000\n",
              "1    6000\n",
              "2    6000\n",
              "3    6000\n",
              "4    6000\n",
              "5    6000\n",
              "6    6000\n",
              "7    6000\n",
              "8    6000\n",
              "9    6000\n",
              "dtype: int64"
            ]
          },
          "metadata": {},
          "execution_count": 4
        }
      ]
    },
    {
      "cell_type": "markdown",
      "source": [
        "# Medel_0: Dense model increasing layers from 16 to 64, LR= 0.0001\n",
        "\n",
        "\n",
        "---\n",
        "\n"
      ],
      "metadata": {
        "id": "hRUmXNVKi52k"
      }
    },
    {
      "cell_type": "code",
      "source": [
        "tf.random.set_seed(42)\n",
        "\n",
        "model_0 = tf.keras.Sequential([\n",
        "    tf.keras.layers.Flatten(input_shape = (28,28,1)),\n",
        "    tf.keras.layers.Dense(16, activation = 'relu'),\n",
        "    tf.keras.layers.Dense(32, activation = 'relu'),\n",
        "    tf.keras.layers.Dense(64, activation = 'relu'),\n",
        "    tf.keras.layers.Dense(10, activation = 'softmax')\n",
        "], name= 'model_0')\n",
        "\n",
        "model_0.compile(loss = tf.keras.losses.SparseCategoricalCrossentropy(),\n",
        "                optimizer = tf.keras.optimizers.Adam(lr= 0.0001),\n",
        "                metrics = ['accuracy'])\n",
        "\n",
        "model_0.fit(train_data,train_labels, epochs = 20, validation_data = (test_data_scaled, test_labels))"
      ],
      "metadata": {
        "colab": {
          "base_uri": "https://localhost:8080/"
        },
        "id": "AcUSR21Qi3Wn",
        "outputId": "fe0dc910-42ac-4cf9-e903-50cdb5bad57e"
      },
      "execution_count": 5,
      "outputs": [
        {
          "output_type": "stream",
          "name": "stderr",
          "text": [
            "/usr/local/lib/python3.8/dist-packages/keras/optimizers/optimizer_v2/adam.py:110: UserWarning: The `lr` argument is deprecated, use `learning_rate` instead.\n",
            "  super(Adam, self).__init__(name, **kwargs)\n"
          ]
        },
        {
          "output_type": "stream",
          "name": "stdout",
          "text": [
            "Epoch 1/20\n",
            "1875/1875 [==============================] - 11s 4ms/step - loss: 0.9690 - accuracy: 0.6675 - val_loss: 0.6537 - val_accuracy: 0.7714\n",
            "Epoch 2/20\n",
            "1875/1875 [==============================] - 6s 3ms/step - loss: 0.5704 - accuracy: 0.8031 - val_loss: 0.5512 - val_accuracy: 0.8123\n",
            "Epoch 3/20\n",
            "1875/1875 [==============================] - 6s 3ms/step - loss: 0.4997 - accuracy: 0.8281 - val_loss: 0.5117 - val_accuracy: 0.8213\n",
            "Epoch 4/20\n",
            "1875/1875 [==============================] - 6s 3ms/step - loss: 0.4661 - accuracy: 0.8387 - val_loss: 0.4840 - val_accuracy: 0.8338\n",
            "Epoch 5/20\n",
            "1875/1875 [==============================] - 6s 3ms/step - loss: 0.4457 - accuracy: 0.8454 - val_loss: 0.4718 - val_accuracy: 0.8351\n",
            "Epoch 6/20\n",
            "1875/1875 [==============================] - 6s 3ms/step - loss: 0.4305 - accuracy: 0.8505 - val_loss: 0.4659 - val_accuracy: 0.8361\n",
            "Epoch 7/20\n",
            "1875/1875 [==============================] - 7s 4ms/step - loss: 0.4186 - accuracy: 0.8541 - val_loss: 0.4613 - val_accuracy: 0.8399\n",
            "Epoch 8/20\n",
            "1875/1875 [==============================] - 5s 3ms/step - loss: 0.4079 - accuracy: 0.8583 - val_loss: 0.4426 - val_accuracy: 0.8469\n",
            "Epoch 9/20\n",
            "1875/1875 [==============================] - 5s 3ms/step - loss: 0.4001 - accuracy: 0.8607 - val_loss: 0.4343 - val_accuracy: 0.8483\n",
            "Epoch 10/20\n",
            "1875/1875 [==============================] - 5s 3ms/step - loss: 0.3934 - accuracy: 0.8626 - val_loss: 0.4276 - val_accuracy: 0.8508\n",
            "Epoch 11/20\n",
            "1875/1875 [==============================] - 5s 3ms/step - loss: 0.3874 - accuracy: 0.8640 - val_loss: 0.4215 - val_accuracy: 0.8526\n",
            "Epoch 12/20\n",
            "1875/1875 [==============================] - 6s 3ms/step - loss: 0.3797 - accuracy: 0.8664 - val_loss: 0.4222 - val_accuracy: 0.8506\n",
            "Epoch 13/20\n",
            "1875/1875 [==============================] - 5s 3ms/step - loss: 0.3757 - accuracy: 0.8673 - val_loss: 0.4158 - val_accuracy: 0.8544\n",
            "Epoch 14/20\n",
            "1875/1875 [==============================] - 6s 3ms/step - loss: 0.3703 - accuracy: 0.8691 - val_loss: 0.4115 - val_accuracy: 0.8557\n",
            "Epoch 15/20\n",
            "1875/1875 [==============================] - 6s 3ms/step - loss: 0.3657 - accuracy: 0.8711 - val_loss: 0.4117 - val_accuracy: 0.8553\n",
            "Epoch 16/20\n",
            "1875/1875 [==============================] - 6s 3ms/step - loss: 0.3623 - accuracy: 0.8717 - val_loss: 0.4049 - val_accuracy: 0.8571\n",
            "Epoch 17/20\n",
            "1875/1875 [==============================] - 5s 3ms/step - loss: 0.3580 - accuracy: 0.8733 - val_loss: 0.4025 - val_accuracy: 0.8572\n",
            "Epoch 18/20\n",
            "1875/1875 [==============================] - 6s 3ms/step - loss: 0.3554 - accuracy: 0.8736 - val_loss: 0.4030 - val_accuracy: 0.8601\n",
            "Epoch 19/20\n",
            "1875/1875 [==============================] - 5s 3ms/step - loss: 0.3519 - accuracy: 0.8755 - val_loss: 0.4014 - val_accuracy: 0.8580\n",
            "Epoch 20/20\n",
            "1875/1875 [==============================] - 5s 3ms/step - loss: 0.3494 - accuracy: 0.8767 - val_loss: 0.3997 - val_accuracy: 0.8584\n"
          ]
        },
        {
          "output_type": "execute_result",
          "data": {
            "text/plain": [
              "<keras.callbacks.History at 0x7f64800e3f40>"
            ]
          },
          "metadata": {},
          "execution_count": 5
        }
      ]
    },
    {
      "cell_type": "markdown",
      "source": [
        "# Medel_0_1: Dense model increasing layers from 16 to 64, LR= 0.001\n"
      ],
      "metadata": {
        "id": "h2AETTCqjEw1"
      }
    },
    {
      "cell_type": "code",
      "source": [
        "tf.random.set_seed(42)\n",
        "\n",
        "model_0_1 = tf.keras.Sequential([\n",
        "    tf.keras.layers.Flatten(input_shape = (28,28,1)),\n",
        "    tf.keras.layers.Dense(16, activation = 'relu'),\n",
        "    tf.keras.layers.Dense(32, activation = 'relu'),\n",
        "    tf.keras.layers.Dense(64, activation = 'relu'),\n",
        "    tf.keras.layers.Dense(10, activation = 'softmax')\n",
        "], name= 'model_0_1')\n",
        "\n",
        "model_0_1.compile(loss = tf.keras.losses.SparseCategoricalCrossentropy(),\n",
        "                optimizer = tf.keras.optimizers.Adam(lr= 0.001),\n",
        "                metrics = ['accuracy'])\n",
        "\n",
        "model_0_1.fit(train_data,train_labels, epochs = 20, validation_data = (test_data_scaled, test_labels))"
      ],
      "metadata": {
        "colab": {
          "base_uri": "https://localhost:8080/"
        },
        "id": "lBzN4PYCjCIA",
        "outputId": "e8a0d89f-a825-4e0d-fff8-10660b6df2eb"
      },
      "execution_count": 8,
      "outputs": [
        {
          "output_type": "stream",
          "name": "stdout",
          "text": [
            "Epoch 1/20\n",
            "1875/1875 [==============================] - 6s 3ms/step - loss: 0.5658 - accuracy: 0.7984 - val_loss: 0.4551 - val_accuracy: 0.8362\n",
            "Epoch 2/20\n",
            "1875/1875 [==============================] - 5s 3ms/step - loss: 0.4108 - accuracy: 0.8507 - val_loss: 0.4847 - val_accuracy: 0.8312\n",
            "Epoch 3/20\n",
            "1875/1875 [==============================] - 5s 3ms/step - loss: 0.3820 - accuracy: 0.8603 - val_loss: 0.4278 - val_accuracy: 0.8439\n",
            "Epoch 4/20\n",
            "1875/1875 [==============================] - 5s 3ms/step - loss: 0.3627 - accuracy: 0.8678 - val_loss: 0.3942 - val_accuracy: 0.8545\n",
            "Epoch 5/20\n",
            "1875/1875 [==============================] - 5s 3ms/step - loss: 0.3499 - accuracy: 0.8714 - val_loss: 0.4091 - val_accuracy: 0.8502\n",
            "Epoch 6/20\n",
            "1875/1875 [==============================] - 5s 3ms/step - loss: 0.3388 - accuracy: 0.8747 - val_loss: 0.4366 - val_accuracy: 0.8388\n",
            "Epoch 7/20\n",
            "1875/1875 [==============================] - 5s 3ms/step - loss: 0.3315 - accuracy: 0.8784 - val_loss: 0.3895 - val_accuracy: 0.8599\n",
            "Epoch 8/20\n",
            "1875/1875 [==============================] - 5s 3ms/step - loss: 0.3231 - accuracy: 0.8802 - val_loss: 0.3821 - val_accuracy: 0.8657\n",
            "Epoch 9/20\n",
            "1875/1875 [==============================] - 5s 3ms/step - loss: 0.3163 - accuracy: 0.8820 - val_loss: 0.3678 - val_accuracy: 0.8671\n",
            "Epoch 10/20\n",
            "1875/1875 [==============================] - 6s 3ms/step - loss: 0.3105 - accuracy: 0.8843 - val_loss: 0.3789 - val_accuracy: 0.8631\n",
            "Epoch 11/20\n",
            "1875/1875 [==============================] - 5s 3ms/step - loss: 0.3045 - accuracy: 0.8855 - val_loss: 0.3787 - val_accuracy: 0.8654\n",
            "Epoch 12/20\n",
            "1875/1875 [==============================] - 5s 3ms/step - loss: 0.2998 - accuracy: 0.8878 - val_loss: 0.3725 - val_accuracy: 0.8725\n",
            "Epoch 13/20\n",
            "1875/1875 [==============================] - 5s 3ms/step - loss: 0.2940 - accuracy: 0.8890 - val_loss: 0.3649 - val_accuracy: 0.8687\n",
            "Epoch 14/20\n",
            "1875/1875 [==============================] - 5s 3ms/step - loss: 0.2903 - accuracy: 0.8920 - val_loss: 0.3725 - val_accuracy: 0.8673\n",
            "Epoch 15/20\n",
            "1875/1875 [==============================] - 7s 4ms/step - loss: 0.2864 - accuracy: 0.8932 - val_loss: 0.3695 - val_accuracy: 0.8673\n",
            "Epoch 16/20\n",
            "1875/1875 [==============================] - 7s 4ms/step - loss: 0.2823 - accuracy: 0.8934 - val_loss: 0.3830 - val_accuracy: 0.8644\n",
            "Epoch 17/20\n",
            "1875/1875 [==============================] - 6s 3ms/step - loss: 0.2796 - accuracy: 0.8960 - val_loss: 0.3754 - val_accuracy: 0.8698\n",
            "Epoch 18/20\n",
            "1875/1875 [==============================] - 5s 3ms/step - loss: 0.2778 - accuracy: 0.8957 - val_loss: 0.3596 - val_accuracy: 0.8736\n",
            "Epoch 19/20\n",
            "1875/1875 [==============================] - 5s 3ms/step - loss: 0.2749 - accuracy: 0.8967 - val_loss: 0.3857 - val_accuracy: 0.8623\n",
            "Epoch 20/20\n",
            "1875/1875 [==============================] - 5s 3ms/step - loss: 0.2710 - accuracy: 0.8979 - val_loss: 0.3876 - val_accuracy: 0.8698\n"
          ]
        },
        {
          "output_type": "execute_result",
          "data": {
            "text/plain": [
              "<keras.callbacks.History at 0x7f641a5df0a0>"
            ]
          },
          "metadata": {},
          "execution_count": 8
        }
      ]
    },
    {
      "cell_type": "markdown",
      "source": [
        "# Medel_1: Dense model increasing layers from 16 to 256, lr = 0.0001\n"
      ],
      "metadata": {
        "id": "G-RKdavEjSHi"
      }
    },
    {
      "cell_type": "code",
      "source": [
        "tf.random.set_seed(42)\n",
        "\n",
        "model_1 = tf.keras.Sequential([\n",
        "    tf.keras.layers.Flatten(input_shape = (28,28,1)),\n",
        "    tf.keras.layers.Dense(16, activation = 'relu'),\n",
        "    tf.keras.layers.Dense(32, activation = 'relu'),\n",
        "    tf.keras.layers.Dense(64, activation = 'relu'),\n",
        "    tf.keras.layers.Dense(128, activation = 'relu'),\n",
        "    tf.keras.layers.Dense(256, activation = 'relu'),\n",
        "    tf.keras.layers.Dense(10, activation = 'softmax')\n",
        "], name= 'model_1')\n",
        "\n",
        "model_1.compile(loss = tf.keras.losses.SparseCategoricalCrossentropy(),\n",
        "                optimizer = tf.keras.optimizers.Adam(lr = 0.0001),\n",
        "                metrics = ['accuracy'])\n",
        "\n",
        "model_1.fit(train_data,train_labels, epochs = 30, validation_data = (test_data_scaled, test_labels))"
      ],
      "metadata": {
        "colab": {
          "base_uri": "https://localhost:8080/"
        },
        "id": "d9bCAlUkjKJ4",
        "outputId": "b9e5a167-a822-4cc7-fbfd-de97dc2177a6"
      },
      "execution_count": 9,
      "outputs": [
        {
          "output_type": "stream",
          "name": "stdout",
          "text": [
            "Epoch 1/30\n",
            "1875/1875 [==============================] - 6s 3ms/step - loss: 0.7885 - accuracy: 0.7188 - val_loss: 0.5627 - val_accuracy: 0.7976\n",
            "Epoch 2/30\n",
            "1875/1875 [==============================] - 6s 3ms/step - loss: 0.5081 - accuracy: 0.8187 - val_loss: 0.5169 - val_accuracy: 0.8145\n",
            "Epoch 3/30\n",
            "1875/1875 [==============================] - 5s 3ms/step - loss: 0.4628 - accuracy: 0.8345 - val_loss: 0.4872 - val_accuracy: 0.8230\n",
            "Epoch 4/30\n",
            "1875/1875 [==============================] - 5s 3ms/step - loss: 0.4325 - accuracy: 0.8465 - val_loss: 0.4547 - val_accuracy: 0.8370\n",
            "Epoch 5/30\n",
            "1875/1875 [==============================] - 6s 3ms/step - loss: 0.4135 - accuracy: 0.8517 - val_loss: 0.4523 - val_accuracy: 0.8352\n",
            "Epoch 6/30\n",
            "1875/1875 [==============================] - 6s 3ms/step - loss: 0.3971 - accuracy: 0.8572 - val_loss: 0.4538 - val_accuracy: 0.8360\n",
            "Epoch 7/30\n",
            "1875/1875 [==============================] - 6s 3ms/step - loss: 0.3852 - accuracy: 0.8615 - val_loss: 0.4490 - val_accuracy: 0.8369\n",
            "Epoch 8/30\n",
            "1875/1875 [==============================] - 6s 3ms/step - loss: 0.3747 - accuracy: 0.8657 - val_loss: 0.4254 - val_accuracy: 0.8478\n",
            "Epoch 9/30\n",
            "1875/1875 [==============================] - 6s 3ms/step - loss: 0.3660 - accuracy: 0.8684 - val_loss: 0.4151 - val_accuracy: 0.8526\n",
            "Epoch 10/30\n",
            "1875/1875 [==============================] - 5s 3ms/step - loss: 0.3589 - accuracy: 0.8699 - val_loss: 0.4033 - val_accuracy: 0.8525\n",
            "Epoch 11/30\n",
            "1875/1875 [==============================] - 6s 3ms/step - loss: 0.3527 - accuracy: 0.8715 - val_loss: 0.3965 - val_accuracy: 0.8543\n",
            "Epoch 12/30\n",
            "1875/1875 [==============================] - 6s 3ms/step - loss: 0.3455 - accuracy: 0.8750 - val_loss: 0.3943 - val_accuracy: 0.8561\n",
            "Epoch 13/30\n",
            "1875/1875 [==============================] - 6s 3ms/step - loss: 0.3418 - accuracy: 0.8762 - val_loss: 0.3884 - val_accuracy: 0.8600\n",
            "Epoch 14/30\n",
            "1875/1875 [==============================] - 6s 3ms/step - loss: 0.3370 - accuracy: 0.8783 - val_loss: 0.3892 - val_accuracy: 0.8578\n",
            "Epoch 15/30\n",
            "1875/1875 [==============================] - 6s 3ms/step - loss: 0.3318 - accuracy: 0.8786 - val_loss: 0.3863 - val_accuracy: 0.8628\n",
            "Epoch 16/30\n",
            "1875/1875 [==============================] - 7s 4ms/step - loss: 0.3274 - accuracy: 0.8809 - val_loss: 0.3891 - val_accuracy: 0.8608\n",
            "Epoch 17/30\n",
            "1875/1875 [==============================] - 6s 3ms/step - loss: 0.3237 - accuracy: 0.8806 - val_loss: 0.3787 - val_accuracy: 0.8644\n",
            "Epoch 18/30\n",
            "1875/1875 [==============================] - 5s 3ms/step - loss: 0.3206 - accuracy: 0.8813 - val_loss: 0.3750 - val_accuracy: 0.8645\n",
            "Epoch 19/30\n",
            "1875/1875 [==============================] - 5s 3ms/step - loss: 0.3170 - accuracy: 0.8839 - val_loss: 0.3844 - val_accuracy: 0.8585\n",
            "Epoch 20/30\n",
            "1875/1875 [==============================] - 5s 3ms/step - loss: 0.3143 - accuracy: 0.8846 - val_loss: 0.3787 - val_accuracy: 0.8659\n",
            "Epoch 21/30\n",
            "1875/1875 [==============================] - 6s 3ms/step - loss: 0.3089 - accuracy: 0.8861 - val_loss: 0.3790 - val_accuracy: 0.8643\n",
            "Epoch 22/30\n",
            "1875/1875 [==============================] - 5s 3ms/step - loss: 0.3060 - accuracy: 0.8875 - val_loss: 0.3685 - val_accuracy: 0.8701\n",
            "Epoch 23/30\n",
            "1875/1875 [==============================] - 5s 3ms/step - loss: 0.3041 - accuracy: 0.8888 - val_loss: 0.3763 - val_accuracy: 0.8641\n",
            "Epoch 24/30\n",
            "1875/1875 [==============================] - 5s 3ms/step - loss: 0.3013 - accuracy: 0.8877 - val_loss: 0.3722 - val_accuracy: 0.8682\n",
            "Epoch 25/30\n",
            "1875/1875 [==============================] - 5s 3ms/step - loss: 0.2980 - accuracy: 0.8899 - val_loss: 0.3816 - val_accuracy: 0.8609\n",
            "Epoch 26/30\n",
            "1875/1875 [==============================] - 5s 3ms/step - loss: 0.2969 - accuracy: 0.8904 - val_loss: 0.3714 - val_accuracy: 0.8696\n",
            "Epoch 27/30\n",
            "1875/1875 [==============================] - 5s 3ms/step - loss: 0.2930 - accuracy: 0.8912 - val_loss: 0.3643 - val_accuracy: 0.8712\n",
            "Epoch 28/30\n",
            "1875/1875 [==============================] - 6s 3ms/step - loss: 0.2912 - accuracy: 0.8920 - val_loss: 0.3694 - val_accuracy: 0.8658\n",
            "Epoch 29/30\n",
            "1875/1875 [==============================] - 5s 3ms/step - loss: 0.2876 - accuracy: 0.8946 - val_loss: 0.3631 - val_accuracy: 0.8717\n",
            "Epoch 30/30\n",
            "1875/1875 [==============================] - 5s 3ms/step - loss: 0.2862 - accuracy: 0.8952 - val_loss: 0.3717 - val_accuracy: 0.8680\n"
          ]
        },
        {
          "output_type": "execute_result",
          "data": {
            "text/plain": [
              "<keras.callbacks.History at 0x7f641a4b9f10>"
            ]
          },
          "metadata": {},
          "execution_count": 9
        }
      ]
    },
    {
      "cell_type": "markdown",
      "source": [
        "# Medel_1_1: Dense model increasing layers from 16 to 256, lr = 0.001\n"
      ],
      "metadata": {
        "id": "a5lXfdApjV0K"
      }
    },
    {
      "cell_type": "code",
      "source": [
        "tf.random.set_seed(42)\n",
        "\n",
        "model_1_1 = tf.keras.Sequential([\n",
        "    tf.keras.layers.Flatten(input_shape = (28,28,1)),\n",
        "    tf.keras.layers.Dense(16, activation = 'relu'),\n",
        "    tf.keras.layers.Dense(32, activation = 'relu'),\n",
        "    tf.keras.layers.Dense(64, activation = 'relu'),\n",
        "    tf.keras.layers.Dense(128, activation = 'relu'),\n",
        "    tf.keras.layers.Dense(256, activation = 'relu'),\n",
        "    tf.keras.layers.Dense(10, activation = 'softmax')\n",
        "], name= 'model_1_1')\n",
        "\n",
        "model_1_1.compile(loss = tf.keras.losses.SparseCategoricalCrossentropy(),\n",
        "                optimizer = tf.keras.optimizers.Adam(lr = 0.001),\n",
        "                metrics = ['accuracy'])\n",
        "\n",
        "model_1_1.fit(train_data,train_labels, epochs = 30, validation_data = (test_data_scaled, test_labels))"
      ],
      "metadata": {
        "colab": {
          "base_uri": "https://localhost:8080/"
        },
        "id": "HYpua81PjUKv",
        "outputId": "f9aa8a4a-562f-4e12-d67a-487a8cee1bb8"
      },
      "execution_count": 10,
      "outputs": [
        {
          "output_type": "stream",
          "name": "stderr",
          "text": [
            "/usr/local/lib/python3.8/dist-packages/keras/optimizers/optimizer_v2/adam.py:110: UserWarning: The `lr` argument is deprecated, use `learning_rate` instead.\n",
            "  super(Adam, self).__init__(name, **kwargs)\n"
          ]
        },
        {
          "output_type": "stream",
          "name": "stdout",
          "text": [
            "Epoch 1/30\n",
            "1875/1875 [==============================] - 6s 3ms/step - loss: 0.5561 - accuracy: 0.7973 - val_loss: 0.4668 - val_accuracy: 0.8337\n",
            "Epoch 2/30\n",
            "1875/1875 [==============================] - 5s 3ms/step - loss: 0.4102 - accuracy: 0.8498 - val_loss: 0.4602 - val_accuracy: 0.8374\n",
            "Epoch 3/30\n",
            "1875/1875 [==============================] - 6s 3ms/step - loss: 0.3829 - accuracy: 0.8588 - val_loss: 0.4319 - val_accuracy: 0.8409\n",
            "Epoch 4/30\n",
            "1875/1875 [==============================] - 6s 3ms/step - loss: 0.3602 - accuracy: 0.8659 - val_loss: 0.4248 - val_accuracy: 0.8442\n",
            "Epoch 5/30\n",
            "1875/1875 [==============================] - 6s 3ms/step - loss: 0.3482 - accuracy: 0.8698 - val_loss: 0.3959 - val_accuracy: 0.8525\n",
            "Epoch 6/30\n",
            "1875/1875 [==============================] - 6s 3ms/step - loss: 0.3351 - accuracy: 0.8739 - val_loss: 0.4081 - val_accuracy: 0.8493\n",
            "Epoch 7/30\n",
            "1875/1875 [==============================] - 6s 3ms/step - loss: 0.3262 - accuracy: 0.8789 - val_loss: 0.4077 - val_accuracy: 0.8542\n",
            "Epoch 8/30\n",
            "1875/1875 [==============================] - 6s 3ms/step - loss: 0.3178 - accuracy: 0.8802 - val_loss: 0.3823 - val_accuracy: 0.8636\n",
            "Epoch 9/30\n",
            "1875/1875 [==============================] - 5s 3ms/step - loss: 0.3097 - accuracy: 0.8837 - val_loss: 0.3831 - val_accuracy: 0.8661\n",
            "Epoch 10/30\n",
            "1875/1875 [==============================] - 5s 3ms/step - loss: 0.3067 - accuracy: 0.8849 - val_loss: 0.3824 - val_accuracy: 0.8639\n",
            "Epoch 11/30\n",
            "1875/1875 [==============================] - 7s 4ms/step - loss: 0.2980 - accuracy: 0.8865 - val_loss: 0.3649 - val_accuracy: 0.8683\n",
            "Epoch 12/30\n",
            "1875/1875 [==============================] - 6s 3ms/step - loss: 0.2934 - accuracy: 0.8884 - val_loss: 0.3808 - val_accuracy: 0.8635\n",
            "Epoch 13/30\n",
            "1875/1875 [==============================] - 6s 3ms/step - loss: 0.2897 - accuracy: 0.8901 - val_loss: 0.3799 - val_accuracy: 0.8662\n",
            "Epoch 14/30\n",
            "1875/1875 [==============================] - 6s 3ms/step - loss: 0.2848 - accuracy: 0.8911 - val_loss: 0.3849 - val_accuracy: 0.8638\n",
            "Epoch 15/30\n",
            "1875/1875 [==============================] - 6s 3ms/step - loss: 0.2822 - accuracy: 0.8910 - val_loss: 0.3691 - val_accuracy: 0.8652\n",
            "Epoch 16/30\n",
            "1875/1875 [==============================] - 6s 3ms/step - loss: 0.2785 - accuracy: 0.8940 - val_loss: 0.3740 - val_accuracy: 0.8701\n",
            "Epoch 17/30\n",
            "1875/1875 [==============================] - 6s 3ms/step - loss: 0.2735 - accuracy: 0.8947 - val_loss: 0.3701 - val_accuracy: 0.8713\n",
            "Epoch 18/30\n",
            "1875/1875 [==============================] - 6s 3ms/step - loss: 0.2707 - accuracy: 0.8961 - val_loss: 0.3696 - val_accuracy: 0.8715\n",
            "Epoch 19/30\n",
            "1875/1875 [==============================] - 6s 3ms/step - loss: 0.2681 - accuracy: 0.8980 - val_loss: 0.4004 - val_accuracy: 0.8572\n",
            "Epoch 20/30\n",
            "1875/1875 [==============================] - 6s 3ms/step - loss: 0.2645 - accuracy: 0.8985 - val_loss: 0.3990 - val_accuracy: 0.8637\n",
            "Epoch 21/30\n",
            "1875/1875 [==============================] - 6s 3ms/step - loss: 0.2622 - accuracy: 0.8996 - val_loss: 0.3844 - val_accuracy: 0.8701\n",
            "Epoch 22/30\n",
            "1875/1875 [==============================] - 5s 3ms/step - loss: 0.2562 - accuracy: 0.9016 - val_loss: 0.3870 - val_accuracy: 0.8713\n",
            "Epoch 23/30\n",
            "1875/1875 [==============================] - 5s 3ms/step - loss: 0.2552 - accuracy: 0.9011 - val_loss: 0.4128 - val_accuracy: 0.8615\n",
            "Epoch 24/30\n",
            "1875/1875 [==============================] - 6s 3ms/step - loss: 0.2531 - accuracy: 0.9026 - val_loss: 0.4031 - val_accuracy: 0.8648\n",
            "Epoch 25/30\n",
            "1875/1875 [==============================] - 6s 3ms/step - loss: 0.2489 - accuracy: 0.9051 - val_loss: 0.4001 - val_accuracy: 0.8665\n",
            "Epoch 26/30\n",
            "1875/1875 [==============================] - 6s 3ms/step - loss: 0.2475 - accuracy: 0.9058 - val_loss: 0.3949 - val_accuracy: 0.8720\n",
            "Epoch 27/30\n",
            "1875/1875 [==============================] - 6s 3ms/step - loss: 0.2432 - accuracy: 0.9060 - val_loss: 0.4038 - val_accuracy: 0.8670\n",
            "Epoch 28/30\n",
            "1875/1875 [==============================] - 5s 3ms/step - loss: 0.2400 - accuracy: 0.9072 - val_loss: 0.4190 - val_accuracy: 0.8665\n",
            "Epoch 29/30\n",
            "1875/1875 [==============================] - 5s 3ms/step - loss: 0.2383 - accuracy: 0.9078 - val_loss: 0.4129 - val_accuracy: 0.8718\n",
            "Epoch 30/30\n",
            "1875/1875 [==============================] - 5s 3ms/step - loss: 0.2373 - accuracy: 0.9094 - val_loss: 0.4120 - val_accuracy: 0.8666\n"
          ]
        },
        {
          "output_type": "execute_result",
          "data": {
            "text/plain": [
              "<keras.callbacks.History at 0x7f640603be80>"
            ]
          },
          "metadata": {},
          "execution_count": 10
        }
      ]
    },
    {
      "cell_type": "markdown",
      "source": [
        "# Medel_2: Dense model decreasing layers from 256 to 16, lr = 0.0001\n"
      ],
      "metadata": {
        "id": "gSHtHa0PkPSX"
      }
    },
    {
      "cell_type": "code",
      "source": [
        "tf.random.set_seed(42)\n",
        "\n",
        "model_2 = tf.keras.Sequential([\n",
        "    tf.keras.layers.Flatten(input_shape = (28,28,1)),\n",
        "    tf.keras.layers.Dense(256, activation = 'relu'),\n",
        "    tf.keras.layers.Dense(128, activation = 'relu'),\n",
        "    tf.keras.layers.Dense(64, activation = 'relu'),\n",
        "    tf.keras.layers.Dense(32, activation = 'relu'),\n",
        "    tf.keras.layers.Dense(16, activation = 'relu'),\n",
        "    tf.keras.layers.Dense(10, activation = 'softmax')\n",
        "], name= 'model_2')\n",
        "\n",
        "model_2.compile(loss = tf.keras.losses.SparseCategoricalCrossentropy(),\n",
        "                optimizer = tf.keras.optimizers.Adam(lr = 0.0001),\n",
        "                metrics = ['accuracy'])\n",
        "\n",
        "model_2.fit(train_data,train_labels, epochs = 30, validation_data = (test_data_scaled, test_labels))"
      ],
      "metadata": {
        "colab": {
          "base_uri": "https://localhost:8080/"
        },
        "id": "apumAqhakEXw",
        "outputId": "4f1845e2-c3fb-4a01-f422-81eeab06389a"
      },
      "execution_count": 11,
      "outputs": [
        {
          "output_type": "stream",
          "name": "stdout",
          "text": [
            "Epoch 1/30\n",
            "1875/1875 [==============================] - 6s 3ms/step - loss: 0.7420 - accuracy: 0.7581 - val_loss: 0.4935 - val_accuracy: 0.8279\n",
            "Epoch 2/30\n",
            "1875/1875 [==============================] - 6s 3ms/step - loss: 0.4367 - accuracy: 0.8490 - val_loss: 0.5091 - val_accuracy: 0.8289\n",
            "Epoch 3/30\n",
            "1875/1875 [==============================] - 6s 3ms/step - loss: 0.3926 - accuracy: 0.8629 - val_loss: 0.4225 - val_accuracy: 0.8473\n",
            "Epoch 4/30\n",
            "1875/1875 [==============================] - 6s 3ms/step - loss: 0.3642 - accuracy: 0.8724 - val_loss: 0.4077 - val_accuracy: 0.8521\n",
            "Epoch 5/30\n",
            "1875/1875 [==============================] - 6s 3ms/step - loss: 0.3462 - accuracy: 0.8776 - val_loss: 0.4039 - val_accuracy: 0.8506\n",
            "Epoch 6/30\n",
            "1875/1875 [==============================] - 6s 3ms/step - loss: 0.3287 - accuracy: 0.8825 - val_loss: 0.3857 - val_accuracy: 0.8588\n",
            "Epoch 7/30\n",
            "1875/1875 [==============================] - 6s 3ms/step - loss: 0.3156 - accuracy: 0.8874 - val_loss: 0.3823 - val_accuracy: 0.8641\n",
            "Epoch 8/30\n",
            "1875/1875 [==============================] - 6s 3ms/step - loss: 0.3010 - accuracy: 0.8917 - val_loss: 0.3553 - val_accuracy: 0.8721\n",
            "Epoch 9/30\n",
            "1875/1875 [==============================] - 6s 3ms/step - loss: 0.2914 - accuracy: 0.8946 - val_loss: 0.3468 - val_accuracy: 0.8714\n",
            "Epoch 10/30\n",
            "1875/1875 [==============================] - 6s 3ms/step - loss: 0.2816 - accuracy: 0.8971 - val_loss: 0.3424 - val_accuracy: 0.8756\n",
            "Epoch 11/30\n",
            "1875/1875 [==============================] - 6s 3ms/step - loss: 0.2722 - accuracy: 0.9006 - val_loss: 0.3529 - val_accuracy: 0.8745\n",
            "Epoch 12/30\n",
            "1875/1875 [==============================] - 6s 3ms/step - loss: 0.2622 - accuracy: 0.9039 - val_loss: 0.3333 - val_accuracy: 0.8803\n",
            "Epoch 13/30\n",
            "1875/1875 [==============================] - 6s 3ms/step - loss: 0.2555 - accuracy: 0.9067 - val_loss: 0.3467 - val_accuracy: 0.8744\n",
            "Epoch 14/30\n",
            "1875/1875 [==============================] - 6s 3ms/step - loss: 0.2479 - accuracy: 0.9106 - val_loss: 0.3297 - val_accuracy: 0.8809\n",
            "Epoch 15/30\n",
            "1875/1875 [==============================] - 6s 3ms/step - loss: 0.2406 - accuracy: 0.9115 - val_loss: 0.3479 - val_accuracy: 0.8755\n",
            "Epoch 16/30\n",
            "1875/1875 [==============================] - 6s 3ms/step - loss: 0.2327 - accuracy: 0.9157 - val_loss: 0.3390 - val_accuracy: 0.8809\n",
            "Epoch 17/30\n",
            "1875/1875 [==============================] - 6s 3ms/step - loss: 0.2262 - accuracy: 0.9178 - val_loss: 0.3280 - val_accuracy: 0.8840\n",
            "Epoch 18/30\n",
            "1875/1875 [==============================] - 6s 3ms/step - loss: 0.2195 - accuracy: 0.9191 - val_loss: 0.3212 - val_accuracy: 0.8858\n",
            "Epoch 19/30\n",
            "1875/1875 [==============================] - 6s 3ms/step - loss: 0.2145 - accuracy: 0.9209 - val_loss: 0.3330 - val_accuracy: 0.8819\n",
            "Epoch 20/30\n",
            "1875/1875 [==============================] - 6s 3ms/step - loss: 0.2085 - accuracy: 0.9238 - val_loss: 0.3398 - val_accuracy: 0.8828\n",
            "Epoch 21/30\n",
            "1875/1875 [==============================] - 7s 4ms/step - loss: 0.2017 - accuracy: 0.9252 - val_loss: 0.3275 - val_accuracy: 0.8872\n",
            "Epoch 22/30\n",
            "1875/1875 [==============================] - 6s 3ms/step - loss: 0.1963 - accuracy: 0.9286 - val_loss: 0.3287 - val_accuracy: 0.8863\n",
            "Epoch 23/30\n",
            "1875/1875 [==============================] - 6s 3ms/step - loss: 0.1911 - accuracy: 0.9292 - val_loss: 0.3406 - val_accuracy: 0.8843\n",
            "Epoch 24/30\n",
            "1875/1875 [==============================] - 6s 3ms/step - loss: 0.1861 - accuracy: 0.9305 - val_loss: 0.3298 - val_accuracy: 0.8844\n",
            "Epoch 25/30\n",
            "1875/1875 [==============================] - 6s 3ms/step - loss: 0.1817 - accuracy: 0.9334 - val_loss: 0.3496 - val_accuracy: 0.8850\n",
            "Epoch 26/30\n",
            "1875/1875 [==============================] - 6s 3ms/step - loss: 0.1771 - accuracy: 0.9351 - val_loss: 0.3251 - val_accuracy: 0.8898\n",
            "Epoch 27/30\n",
            "1875/1875 [==============================] - 6s 3ms/step - loss: 0.1727 - accuracy: 0.9363 - val_loss: 0.3482 - val_accuracy: 0.8843\n",
            "Epoch 28/30\n",
            "1875/1875 [==============================] - 6s 3ms/step - loss: 0.1671 - accuracy: 0.9386 - val_loss: 0.3493 - val_accuracy: 0.8850\n",
            "Epoch 29/30\n",
            "1875/1875 [==============================] - 6s 3ms/step - loss: 0.1626 - accuracy: 0.9399 - val_loss: 0.3480 - val_accuracy: 0.8860\n",
            "Epoch 30/30\n",
            "1875/1875 [==============================] - 6s 3ms/step - loss: 0.1604 - accuracy: 0.9419 - val_loss: 0.3511 - val_accuracy: 0.8882\n"
          ]
        },
        {
          "output_type": "execute_result",
          "data": {
            "text/plain": [
              "<keras.callbacks.History at 0x7f63e86f8250>"
            ]
          },
          "metadata": {},
          "execution_count": 11
        }
      ]
    },
    {
      "cell_type": "markdown",
      "source": [
        "# Medel_2_1: Dense model decreasing layers from 256 to 16, lr = 0.001\n"
      ],
      "metadata": {
        "id": "1c5xlWwJkY5s"
      }
    },
    {
      "cell_type": "code",
      "source": [
        "tf.random.set_seed(42)\n",
        "\n",
        "model_2_1 = tf.keras.Sequential([\n",
        "    tf.keras.layers.Flatten(input_shape = (28,28,1)),\n",
        "    tf.keras.layers.Dense(256, activation = 'relu'),\n",
        "    tf.keras.layers.Dense(128, activation = 'relu'),\n",
        "    tf.keras.layers.Dense(64, activation = 'relu'),\n",
        "    tf.keras.layers.Dense(32, activation = 'relu'),\n",
        "    tf.keras.layers.Dense(16, activation = 'relu'),\n",
        "    tf.keras.layers.Dense(10, activation = 'softmax')\n",
        "], name= 'model_2_1')\n",
        "\n",
        "model_2_1.compile(loss = tf.keras.losses.SparseCategoricalCrossentropy(),\n",
        "                optimizer = tf.keras.optimizers.Adam(lr = 0.001),\n",
        "                metrics = ['accuracy'])\n",
        "\n",
        "model_2_1.fit(train_data,train_labels, epochs = 30, validation_data = (test_data_scaled, test_labels))"
      ],
      "metadata": {
        "colab": {
          "base_uri": "https://localhost:8080/"
        },
        "id": "OKvwL9V2kW7J",
        "outputId": "f453238b-ef6a-4cd0-807d-f30f50437bc1"
      },
      "execution_count": 12,
      "outputs": [
        {
          "output_type": "stream",
          "name": "stdout",
          "text": [
            "Epoch 1/30\n",
            "1875/1875 [==============================] - 6s 3ms/step - loss: 0.5467 - accuracy: 0.8065 - val_loss: 0.4324 - val_accuracy: 0.8459\n",
            "Epoch 2/30\n",
            "1875/1875 [==============================] - 6s 3ms/step - loss: 0.3773 - accuracy: 0.8617 - val_loss: 0.4441 - val_accuracy: 0.8483\n",
            "Epoch 3/30\n",
            "1875/1875 [==============================] - 6s 3ms/step - loss: 0.3409 - accuracy: 0.8738 - val_loss: 0.4024 - val_accuracy: 0.8526\n",
            "Epoch 4/30\n",
            "1875/1875 [==============================] - 6s 3ms/step - loss: 0.3160 - accuracy: 0.8835 - val_loss: 0.3681 - val_accuracy: 0.8679\n",
            "Epoch 5/30\n",
            "1875/1875 [==============================] - 6s 3ms/step - loss: 0.2980 - accuracy: 0.8888 - val_loss: 0.3783 - val_accuracy: 0.8583\n",
            "Epoch 6/30\n",
            "1875/1875 [==============================] - 6s 3ms/step - loss: 0.2839 - accuracy: 0.8940 - val_loss: 0.3450 - val_accuracy: 0.8746\n",
            "Epoch 7/30\n",
            "1875/1875 [==============================] - 6s 3ms/step - loss: 0.2721 - accuracy: 0.8979 - val_loss: 0.3427 - val_accuracy: 0.8762\n",
            "Epoch 8/30\n",
            "1875/1875 [==============================] - 6s 3ms/step - loss: 0.2620 - accuracy: 0.9021 - val_loss: 0.3410 - val_accuracy: 0.8796\n",
            "Epoch 9/30\n",
            "1875/1875 [==============================] - 6s 3ms/step - loss: 0.2517 - accuracy: 0.9067 - val_loss: 0.3417 - val_accuracy: 0.8855\n",
            "Epoch 10/30\n",
            "1875/1875 [==============================] - 6s 3ms/step - loss: 0.2432 - accuracy: 0.9083 - val_loss: 0.3470 - val_accuracy: 0.8763\n",
            "Epoch 11/30\n",
            "1875/1875 [==============================] - 6s 3ms/step - loss: 0.2355 - accuracy: 0.9114 - val_loss: 0.3322 - val_accuracy: 0.8840\n",
            "Epoch 12/30\n",
            "1875/1875 [==============================] - 6s 3ms/step - loss: 0.2284 - accuracy: 0.9143 - val_loss: 0.3696 - val_accuracy: 0.8818\n",
            "Epoch 13/30\n",
            "1875/1875 [==============================] - 6s 3ms/step - loss: 0.2231 - accuracy: 0.9158 - val_loss: 0.3380 - val_accuracy: 0.8814\n",
            "Epoch 14/30\n",
            "1875/1875 [==============================] - 6s 3ms/step - loss: 0.2157 - accuracy: 0.9191 - val_loss: 0.3366 - val_accuracy: 0.8904\n",
            "Epoch 15/30\n",
            "1875/1875 [==============================] - 6s 3ms/step - loss: 0.2088 - accuracy: 0.9223 - val_loss: 0.3345 - val_accuracy: 0.8845\n",
            "Epoch 16/30\n",
            "1875/1875 [==============================] - 6s 3ms/step - loss: 0.2039 - accuracy: 0.9228 - val_loss: 0.3450 - val_accuracy: 0.8862\n",
            "Epoch 17/30\n",
            "1875/1875 [==============================] - 6s 3ms/step - loss: 0.1944 - accuracy: 0.9259 - val_loss: 0.3701 - val_accuracy: 0.8882\n",
            "Epoch 18/30\n",
            "1875/1875 [==============================] - 6s 3ms/step - loss: 0.1923 - accuracy: 0.9276 - val_loss: 0.3529 - val_accuracy: 0.8894\n",
            "Epoch 19/30\n",
            "1875/1875 [==============================] - 7s 3ms/step - loss: 0.1873 - accuracy: 0.9284 - val_loss: 0.3447 - val_accuracy: 0.8936\n",
            "Epoch 20/30\n",
            "1875/1875 [==============================] - 6s 3ms/step - loss: 0.1825 - accuracy: 0.9311 - val_loss: 0.3676 - val_accuracy: 0.8846\n",
            "Epoch 21/30\n",
            "1875/1875 [==============================] - 6s 3ms/step - loss: 0.1754 - accuracy: 0.9337 - val_loss: 0.3499 - val_accuracy: 0.8890\n",
            "Epoch 22/30\n",
            "1875/1875 [==============================] - 6s 3ms/step - loss: 0.1726 - accuracy: 0.9353 - val_loss: 0.3754 - val_accuracy: 0.8905\n",
            "Epoch 23/30\n",
            "1875/1875 [==============================] - 6s 3ms/step - loss: 0.1678 - accuracy: 0.9366 - val_loss: 0.3628 - val_accuracy: 0.8896\n",
            "Epoch 24/30\n",
            "1875/1875 [==============================] - 6s 3ms/step - loss: 0.1651 - accuracy: 0.9380 - val_loss: 0.3928 - val_accuracy: 0.8851\n",
            "Epoch 25/30\n",
            "1875/1875 [==============================] - 6s 3ms/step - loss: 0.1596 - accuracy: 0.9397 - val_loss: 0.3880 - val_accuracy: 0.8888\n",
            "Epoch 26/30\n",
            "1875/1875 [==============================] - 6s 3ms/step - loss: 0.1575 - accuracy: 0.9411 - val_loss: 0.3555 - val_accuracy: 0.8935\n",
            "Epoch 27/30\n",
            "1875/1875 [==============================] - 6s 3ms/step - loss: 0.1554 - accuracy: 0.9406 - val_loss: 0.3585 - val_accuracy: 0.8944\n",
            "Epoch 28/30\n",
            "1875/1875 [==============================] - 6s 3ms/step - loss: 0.1488 - accuracy: 0.9438 - val_loss: 0.4503 - val_accuracy: 0.8816\n",
            "Epoch 29/30\n",
            "1875/1875 [==============================] - 6s 3ms/step - loss: 0.1462 - accuracy: 0.9439 - val_loss: 0.4448 - val_accuracy: 0.8895\n",
            "Epoch 30/30\n",
            "1875/1875 [==============================] - 6s 3ms/step - loss: 0.1448 - accuracy: 0.9458 - val_loss: 0.4170 - val_accuracy: 0.8871\n"
          ]
        },
        {
          "output_type": "execute_result",
          "data": {
            "text/plain": [
              "<keras.callbacks.History at 0x7f6407683670>"
            ]
          },
          "metadata": {},
          "execution_count": 12
        }
      ]
    },
    {
      "cell_type": "markdown",
      "source": [
        "# model_6: combnation of Con2d from 8 to 32 and Dens with 128 layers and same padding, lr = 0.0001\n"
      ],
      "metadata": {
        "id": "tSZHv2Zlk30-"
      }
    },
    {
      "cell_type": "code",
      "source": [
        "from tensorflow.keras import Sequential\n",
        "from tensorflow.keras.layers import Conv2D, MaxPool2D, Flatten, Dense\n",
        "\n",
        "model_6 = Sequential([\n",
        "  Conv2D(32, 3, activation='relu',padding='same', input_shape=(28, 28, 1)),\n",
        "  MaxPool2D(pool_size=2), # reduce number of features by half\n",
        "  Conv2D(64, 3,padding='same', activation='relu'),\n",
        "  MaxPool2D(),\n",
        "  Flatten(),\n",
        "  Dense(128, activation = 'relu'),\n",
        "  Dense(10, activation='softmax')\n",
        "])\n",
        "\n",
        "model_6.compile(loss = tf.keras.losses.SparseCategoricalCrossentropy(),\n",
        "                optimizer = tf.keras.optimizers.Adam(lr = 0.0001),\n",
        "                metrics = ['accuracy'])\n",
        "\n",
        "model_6.fit(train_data,train_labels, epochs = 30, validation_data = (test_data_scaled, test_labels))"
      ],
      "metadata": {
        "colab": {
          "base_uri": "https://localhost:8080/"
        },
        "id": "T0bti0ZXkfZ3",
        "outputId": "1787bad2-497c-4bbc-c190-8aeb16aa3a24"
      },
      "execution_count": 13,
      "outputs": [
        {
          "output_type": "stream",
          "name": "stdout",
          "text": [
            "Epoch 1/30\n",
            "1875/1875 [==============================] - 13s 3ms/step - loss: 0.5849 - accuracy: 0.7965 - val_loss: 0.4249 - val_accuracy: 0.8489\n",
            "Epoch 2/30\n",
            "1875/1875 [==============================] - 7s 4ms/step - loss: 0.3901 - accuracy: 0.8616 - val_loss: 0.4463 - val_accuracy: 0.8403\n",
            "Epoch 3/30\n",
            "1875/1875 [==============================] - 6s 3ms/step - loss: 0.3473 - accuracy: 0.8763 - val_loss: 0.3583 - val_accuracy: 0.8670\n",
            "Epoch 4/30\n",
            "1875/1875 [==============================] - 6s 3ms/step - loss: 0.3184 - accuracy: 0.8869 - val_loss: 0.3311 - val_accuracy: 0.8816\n",
            "Epoch 5/30\n",
            "1875/1875 [==============================] - 6s 3ms/step - loss: 0.2980 - accuracy: 0.8937 - val_loss: 0.3359 - val_accuracy: 0.8780\n",
            "Epoch 6/30\n",
            "1875/1875 [==============================] - 7s 4ms/step - loss: 0.2806 - accuracy: 0.8992 - val_loss: 0.3282 - val_accuracy: 0.8807\n",
            "Epoch 7/30\n",
            "1875/1875 [==============================] - 7s 4ms/step - loss: 0.2670 - accuracy: 0.9035 - val_loss: 0.3041 - val_accuracy: 0.8866\n",
            "Epoch 8/30\n",
            "1875/1875 [==============================] - 6s 3ms/step - loss: 0.2543 - accuracy: 0.9093 - val_loss: 0.2931 - val_accuracy: 0.8930\n",
            "Epoch 9/30\n",
            "1875/1875 [==============================] - 6s 3ms/step - loss: 0.2445 - accuracy: 0.9126 - val_loss: 0.2706 - val_accuracy: 0.9026\n",
            "Epoch 10/30\n",
            "1875/1875 [==============================] - 7s 4ms/step - loss: 0.2351 - accuracy: 0.9141 - val_loss: 0.2794 - val_accuracy: 0.8999\n",
            "Epoch 11/30\n",
            "1875/1875 [==============================] - 7s 4ms/step - loss: 0.2262 - accuracy: 0.9188 - val_loss: 0.2688 - val_accuracy: 0.9036\n",
            "Epoch 12/30\n",
            "1875/1875 [==============================] - 7s 4ms/step - loss: 0.2164 - accuracy: 0.9215 - val_loss: 0.2660 - val_accuracy: 0.9055\n",
            "Epoch 13/30\n",
            "1875/1875 [==============================] - 6s 3ms/step - loss: 0.2093 - accuracy: 0.9240 - val_loss: 0.2639 - val_accuracy: 0.9044\n",
            "Epoch 14/30\n",
            "1875/1875 [==============================] - 7s 4ms/step - loss: 0.2021 - accuracy: 0.9261 - val_loss: 0.2486 - val_accuracy: 0.9109\n",
            "Epoch 15/30\n",
            "1875/1875 [==============================] - 7s 4ms/step - loss: 0.1956 - accuracy: 0.9287 - val_loss: 0.2516 - val_accuracy: 0.9087\n",
            "Epoch 16/30\n",
            "1875/1875 [==============================] - 6s 3ms/step - loss: 0.1884 - accuracy: 0.9318 - val_loss: 0.2577 - val_accuracy: 0.9098\n",
            "Epoch 17/30\n",
            "1875/1875 [==============================] - 7s 4ms/step - loss: 0.1818 - accuracy: 0.9341 - val_loss: 0.2464 - val_accuracy: 0.9136\n",
            "Epoch 18/30\n",
            "1875/1875 [==============================] - 6s 3ms/step - loss: 0.1767 - accuracy: 0.9355 - val_loss: 0.2446 - val_accuracy: 0.9150\n",
            "Epoch 19/30\n",
            "1875/1875 [==============================] - 6s 3ms/step - loss: 0.1706 - accuracy: 0.9373 - val_loss: 0.2449 - val_accuracy: 0.9120\n",
            "Epoch 20/30\n",
            "1875/1875 [==============================] - 7s 4ms/step - loss: 0.1655 - accuracy: 0.9402 - val_loss: 0.2571 - val_accuracy: 0.9117\n",
            "Epoch 21/30\n",
            "1875/1875 [==============================] - 6s 3ms/step - loss: 0.1593 - accuracy: 0.9422 - val_loss: 0.2364 - val_accuracy: 0.9169\n",
            "Epoch 22/30\n",
            "1875/1875 [==============================] - 6s 3ms/step - loss: 0.1536 - accuracy: 0.9442 - val_loss: 0.2375 - val_accuracy: 0.9149\n",
            "Epoch 23/30\n",
            "1875/1875 [==============================] - 6s 3ms/step - loss: 0.1495 - accuracy: 0.9461 - val_loss: 0.2374 - val_accuracy: 0.9172\n",
            "Epoch 24/30\n",
            "1875/1875 [==============================] - 6s 3ms/step - loss: 0.1451 - accuracy: 0.9474 - val_loss: 0.2461 - val_accuracy: 0.9165\n",
            "Epoch 25/30\n",
            "1875/1875 [==============================] - 7s 4ms/step - loss: 0.1406 - accuracy: 0.9489 - val_loss: 0.2451 - val_accuracy: 0.9149\n",
            "Epoch 26/30\n",
            "1875/1875 [==============================] - 6s 3ms/step - loss: 0.1381 - accuracy: 0.9503 - val_loss: 0.2332 - val_accuracy: 0.9190\n",
            "Epoch 27/30\n",
            "1875/1875 [==============================] - 6s 3ms/step - loss: 0.1323 - accuracy: 0.9519 - val_loss: 0.2333 - val_accuracy: 0.9197\n",
            "Epoch 28/30\n",
            "1875/1875 [==============================] - 6s 3ms/step - loss: 0.1273 - accuracy: 0.9539 - val_loss: 0.2639 - val_accuracy: 0.9111\n",
            "Epoch 29/30\n",
            "1875/1875 [==============================] - 6s 3ms/step - loss: 0.1238 - accuracy: 0.9550 - val_loss: 0.2458 - val_accuracy: 0.9200\n",
            "Epoch 30/30\n",
            "1875/1875 [==============================] - 6s 3ms/step - loss: 0.1196 - accuracy: 0.9570 - val_loss: 0.2630 - val_accuracy: 0.9135\n"
          ]
        },
        {
          "output_type": "execute_result",
          "data": {
            "text/plain": [
              "<keras.callbacks.History at 0x7f640750aa60>"
            ]
          },
          "metadata": {},
          "execution_count": 13
        }
      ]
    },
    {
      "cell_type": "markdown",
      "source": [
        "# model_6_1: combnation of Con2d from 8 to 32 and Dens with 128 layers and same padding, lr = 0.001\n"
      ],
      "metadata": {
        "id": "--OXEhWtlFRH"
      }
    },
    {
      "cell_type": "code",
      "source": [
        "model_6_1 = Sequential([\n",
        "  Conv2D(32, 3, activation='relu',padding='same', input_shape=(28, 28, 1)),\n",
        "  MaxPool2D(pool_size=2), # reduce number of features by half\n",
        "  Conv2D(64, 3,padding='same', activation='relu'),\n",
        "  MaxPool2D(),\n",
        "  Flatten(),\n",
        "  Dense(128, activation = 'relu'),\n",
        "  Dense(10, activation='softmax')\n",
        "])\n",
        "\n",
        "model_6_1.compile(loss = tf.keras.losses.SparseCategoricalCrossentropy(),\n",
        "                optimizer = tf.keras.optimizers.Adam(lr = 0.001),\n",
        "                metrics = ['accuracy'])\n",
        "\n",
        "model_6_1.fit(train_data,train_labels, epochs = 30, validation_data = (test_data_scaled, test_labels))"
      ],
      "metadata": {
        "colab": {
          "base_uri": "https://localhost:8080/"
        },
        "id": "ifbGPPkDlCvU",
        "outputId": "5e60ab88-8b09-47e4-ed49-eac0e12d4dc3"
      },
      "execution_count": 14,
      "outputs": [
        {
          "output_type": "stream",
          "name": "stderr",
          "text": [
            "/usr/local/lib/python3.8/dist-packages/keras/optimizers/optimizer_v2/adam.py:110: UserWarning: The `lr` argument is deprecated, use `learning_rate` instead.\n",
            "  super(Adam, self).__init__(name, **kwargs)\n"
          ]
        },
        {
          "output_type": "stream",
          "name": "stdout",
          "text": [
            "Epoch 1/30\n",
            "1875/1875 [==============================] - 7s 3ms/step - loss: 0.4007 - accuracy: 0.8545 - val_loss: 0.3123 - val_accuracy: 0.8890\n",
            "Epoch 2/30\n",
            "1875/1875 [==============================] - 7s 4ms/step - loss: 0.2629 - accuracy: 0.9041 - val_loss: 0.3417 - val_accuracy: 0.8801\n",
            "Epoch 3/30\n",
            "1875/1875 [==============================] - 7s 4ms/step - loss: 0.2197 - accuracy: 0.9192 - val_loss: 0.2642 - val_accuracy: 0.9036\n",
            "Epoch 4/30\n",
            "1875/1875 [==============================] - 6s 3ms/step - loss: 0.1867 - accuracy: 0.9314 - val_loss: 0.2374 - val_accuracy: 0.9134\n",
            "Epoch 5/30\n",
            "1875/1875 [==============================] - 7s 4ms/step - loss: 0.1617 - accuracy: 0.9400 - val_loss: 0.2442 - val_accuracy: 0.9164\n",
            "Epoch 6/30\n",
            "1875/1875 [==============================] - 6s 3ms/step - loss: 0.1383 - accuracy: 0.9489 - val_loss: 0.2679 - val_accuracy: 0.9104\n",
            "Epoch 7/30\n",
            "1875/1875 [==============================] - 6s 3ms/step - loss: 0.1158 - accuracy: 0.9571 - val_loss: 0.2566 - val_accuracy: 0.9179\n",
            "Epoch 8/30\n",
            "1875/1875 [==============================] - 6s 3ms/step - loss: 0.0973 - accuracy: 0.9637 - val_loss: 0.2699 - val_accuracy: 0.9172\n",
            "Epoch 9/30\n",
            "1875/1875 [==============================] - 7s 4ms/step - loss: 0.0827 - accuracy: 0.9688 - val_loss: 0.2930 - val_accuracy: 0.9178\n",
            "Epoch 10/30\n",
            "1875/1875 [==============================] - 8s 4ms/step - loss: 0.0725 - accuracy: 0.9730 - val_loss: 0.2929 - val_accuracy: 0.9203\n",
            "Epoch 11/30\n",
            "1875/1875 [==============================] - 7s 4ms/step - loss: 0.0587 - accuracy: 0.9783 - val_loss: 0.3195 - val_accuracy: 0.9205\n",
            "Epoch 12/30\n",
            "1875/1875 [==============================] - 7s 4ms/step - loss: 0.0507 - accuracy: 0.9811 - val_loss: 0.3751 - val_accuracy: 0.9202\n",
            "Epoch 13/30\n",
            "1875/1875 [==============================] - 7s 4ms/step - loss: 0.0446 - accuracy: 0.9834 - val_loss: 0.3857 - val_accuracy: 0.9173\n",
            "Epoch 14/30\n",
            "1875/1875 [==============================] - 6s 3ms/step - loss: 0.0410 - accuracy: 0.9846 - val_loss: 0.4335 - val_accuracy: 0.9144\n",
            "Epoch 15/30\n",
            "1875/1875 [==============================] - 6s 3ms/step - loss: 0.0358 - accuracy: 0.9869 - val_loss: 0.4168 - val_accuracy: 0.9189\n",
            "Epoch 16/30\n",
            "1875/1875 [==============================] - 6s 3ms/step - loss: 0.0328 - accuracy: 0.9877 - val_loss: 0.4624 - val_accuracy: 0.9152\n",
            "Epoch 17/30\n",
            "1875/1875 [==============================] - 6s 3ms/step - loss: 0.0287 - accuracy: 0.9893 - val_loss: 0.4896 - val_accuracy: 0.9161\n",
            "Epoch 18/30\n",
            "1875/1875 [==============================] - 7s 4ms/step - loss: 0.0293 - accuracy: 0.9896 - val_loss: 0.4939 - val_accuracy: 0.9162\n",
            "Epoch 19/30\n",
            "1875/1875 [==============================] - 7s 4ms/step - loss: 0.0275 - accuracy: 0.9905 - val_loss: 0.4908 - val_accuracy: 0.9185\n",
            "Epoch 20/30\n",
            "1875/1875 [==============================] - 7s 4ms/step - loss: 0.0234 - accuracy: 0.9918 - val_loss: 0.5624 - val_accuracy: 0.9146\n",
            "Epoch 21/30\n",
            "1875/1875 [==============================] - 7s 4ms/step - loss: 0.0233 - accuracy: 0.9917 - val_loss: 0.5460 - val_accuracy: 0.9132\n",
            "Epoch 22/30\n",
            "1875/1875 [==============================] - 7s 4ms/step - loss: 0.0203 - accuracy: 0.9925 - val_loss: 0.5695 - val_accuracy: 0.9135\n",
            "Epoch 23/30\n",
            "1875/1875 [==============================] - 6s 3ms/step - loss: 0.0221 - accuracy: 0.9925 - val_loss: 0.6331 - val_accuracy: 0.9156\n",
            "Epoch 24/30\n",
            "1875/1875 [==============================] - 6s 3ms/step - loss: 0.0207 - accuracy: 0.9929 - val_loss: 0.6620 - val_accuracy: 0.9170\n",
            "Epoch 25/30\n",
            "1875/1875 [==============================] - 7s 4ms/step - loss: 0.0207 - accuracy: 0.9927 - val_loss: 0.6125 - val_accuracy: 0.9165\n",
            "Epoch 26/30\n",
            "1875/1875 [==============================] - 6s 3ms/step - loss: 0.0177 - accuracy: 0.9933 - val_loss: 0.6789 - val_accuracy: 0.9131\n",
            "Epoch 27/30\n",
            "1875/1875 [==============================] - 6s 3ms/step - loss: 0.0216 - accuracy: 0.9927 - val_loss: 0.6897 - val_accuracy: 0.9109\n",
            "Epoch 28/30\n",
            "1875/1875 [==============================] - 7s 4ms/step - loss: 0.0161 - accuracy: 0.9943 - val_loss: 0.6851 - val_accuracy: 0.9129\n",
            "Epoch 29/30\n",
            "1875/1875 [==============================] - 7s 4ms/step - loss: 0.0183 - accuracy: 0.9935 - val_loss: 0.6963 - val_accuracy: 0.9155\n",
            "Epoch 30/30\n",
            "1875/1875 [==============================] - 7s 4ms/step - loss: 0.0177 - accuracy: 0.9939 - val_loss: 0.7139 - val_accuracy: 0.9173\n"
          ]
        },
        {
          "output_type": "execute_result",
          "data": {
            "text/plain": [
              "<keras.callbacks.History at 0x7f64074229d0>"
            ]
          },
          "metadata": {},
          "execution_count": 14
        }
      ]
    }
  ]
}
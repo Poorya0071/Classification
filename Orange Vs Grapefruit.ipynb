{
  "nbformat": 4,
  "nbformat_minor": 0,
  "metadata": {
    "colab": {
      "provenance": [],
      "authorship_tag": "ABX9TyMm8qcpa7JpQEmv9dUFcdwV",
      "include_colab_link": true
    },
    "kernelspec": {
      "name": "python3",
      "display_name": "Python 3"
    },
    "language_info": {
      "name": "python"
    },
    "accelerator": "GPU",
    "gpuClass": "standard"
  },
  "cells": [
    {
      "cell_type": "markdown",
      "metadata": {
        "id": "view-in-github",
        "colab_type": "text"
      },
      "source": [
        "<a href=\"https://colab.research.google.com/github/Poorya0071/heart-disease-classification/blob/main/Orange%20Vs%20Grapefruit.ipynb\" target=\"_parent\"><img src=\"https://colab.research.google.com/assets/colab-badge.svg\" alt=\"Open In Colab\"/></a>"
      ]
    },
    {
      "cell_type": "markdown",
      "source": [
        "# Oranges vs. Grapefruit\n",
        "This notebook aims to classify Oranges vs. Grapefruit by Random Forest Classifier and Deep Neural Network and compare the results."
      ],
      "metadata": {
        "id": "VqErRi7-aI5S"
      }
    },
    {
      "cell_type": "code",
      "execution_count": 166,
      "metadata": {
        "id": "TwV8eouGFLRy"
      },
      "outputs": [],
      "source": [
        "import tensorflow as tf\n",
        "from tensorflow import keras\n",
        "from tensorflow.keras import layers\n",
        "import numpy as np\n",
        "import matplotlib.pyplot as plt\n",
        "import pandas as pd"
      ]
    },
    {
      "cell_type": "markdown",
      "source": [
        "# Upload the data"
      ],
      "metadata": {
        "id": "vLYLzfHiazOx"
      }
    },
    {
      "cell_type": "code",
      "source": [
        "data = pd.read_csv('/content/citrus.csv')\n",
        "data.head()"
      ],
      "metadata": {
        "colab": {
          "base_uri": "https://localhost:8080/",
          "height": 206
        },
        "id": "UTpjmXm8FcnQ",
        "outputId": "b4ad7974-e831-438e-b114-ea6e0ab607c7"
      },
      "execution_count": 167,
      "outputs": [
        {
          "output_type": "execute_result",
          "data": {
            "text/plain": [
              "     name  diameter  weight  red  green  blue\n",
              "0  orange      2.96   86.76  172     85     2\n",
              "1  orange      3.91   88.05  166     78     3\n",
              "2  orange      4.42   95.17  156     81     2\n",
              "3  orange      4.47   95.60  163     81     4\n",
              "4  orange      4.48   95.76  161     72     9"
            ],
            "text/html": [
              "\n",
              "  <div id=\"df-a2525874-be61-4756-baf3-72d28b7d012a\">\n",
              "    <div class=\"colab-df-container\">\n",
              "      <div>\n",
              "<style scoped>\n",
              "    .dataframe tbody tr th:only-of-type {\n",
              "        vertical-align: middle;\n",
              "    }\n",
              "\n",
              "    .dataframe tbody tr th {\n",
              "        vertical-align: top;\n",
              "    }\n",
              "\n",
              "    .dataframe thead th {\n",
              "        text-align: right;\n",
              "    }\n",
              "</style>\n",
              "<table border=\"1\" class=\"dataframe\">\n",
              "  <thead>\n",
              "    <tr style=\"text-align: right;\">\n",
              "      <th></th>\n",
              "      <th>name</th>\n",
              "      <th>diameter</th>\n",
              "      <th>weight</th>\n",
              "      <th>red</th>\n",
              "      <th>green</th>\n",
              "      <th>blue</th>\n",
              "    </tr>\n",
              "  </thead>\n",
              "  <tbody>\n",
              "    <tr>\n",
              "      <th>0</th>\n",
              "      <td>orange</td>\n",
              "      <td>2.96</td>\n",
              "      <td>86.76</td>\n",
              "      <td>172</td>\n",
              "      <td>85</td>\n",
              "      <td>2</td>\n",
              "    </tr>\n",
              "    <tr>\n",
              "      <th>1</th>\n",
              "      <td>orange</td>\n",
              "      <td>3.91</td>\n",
              "      <td>88.05</td>\n",
              "      <td>166</td>\n",
              "      <td>78</td>\n",
              "      <td>3</td>\n",
              "    </tr>\n",
              "    <tr>\n",
              "      <th>2</th>\n",
              "      <td>orange</td>\n",
              "      <td>4.42</td>\n",
              "      <td>95.17</td>\n",
              "      <td>156</td>\n",
              "      <td>81</td>\n",
              "      <td>2</td>\n",
              "    </tr>\n",
              "    <tr>\n",
              "      <th>3</th>\n",
              "      <td>orange</td>\n",
              "      <td>4.47</td>\n",
              "      <td>95.60</td>\n",
              "      <td>163</td>\n",
              "      <td>81</td>\n",
              "      <td>4</td>\n",
              "    </tr>\n",
              "    <tr>\n",
              "      <th>4</th>\n",
              "      <td>orange</td>\n",
              "      <td>4.48</td>\n",
              "      <td>95.76</td>\n",
              "      <td>161</td>\n",
              "      <td>72</td>\n",
              "      <td>9</td>\n",
              "    </tr>\n",
              "  </tbody>\n",
              "</table>\n",
              "</div>\n",
              "      <button class=\"colab-df-convert\" onclick=\"convertToInteractive('df-a2525874-be61-4756-baf3-72d28b7d012a')\"\n",
              "              title=\"Convert this dataframe to an interactive table.\"\n",
              "              style=\"display:none;\">\n",
              "        \n",
              "  <svg xmlns=\"http://www.w3.org/2000/svg\" height=\"24px\"viewBox=\"0 0 24 24\"\n",
              "       width=\"24px\">\n",
              "    <path d=\"M0 0h24v24H0V0z\" fill=\"none\"/>\n",
              "    <path d=\"M18.56 5.44l.94 2.06.94-2.06 2.06-.94-2.06-.94-.94-2.06-.94 2.06-2.06.94zm-11 1L8.5 8.5l.94-2.06 2.06-.94-2.06-.94L8.5 2.5l-.94 2.06-2.06.94zm10 10l.94 2.06.94-2.06 2.06-.94-2.06-.94-.94-2.06-.94 2.06-2.06.94z\"/><path d=\"M17.41 7.96l-1.37-1.37c-.4-.4-.92-.59-1.43-.59-.52 0-1.04.2-1.43.59L10.3 9.45l-7.72 7.72c-.78.78-.78 2.05 0 2.83L4 21.41c.39.39.9.59 1.41.59.51 0 1.02-.2 1.41-.59l7.78-7.78 2.81-2.81c.8-.78.8-2.07 0-2.86zM5.41 20L4 18.59l7.72-7.72 1.47 1.35L5.41 20z\"/>\n",
              "  </svg>\n",
              "      </button>\n",
              "      \n",
              "  <style>\n",
              "    .colab-df-container {\n",
              "      display:flex;\n",
              "      flex-wrap:wrap;\n",
              "      gap: 12px;\n",
              "    }\n",
              "\n",
              "    .colab-df-convert {\n",
              "      background-color: #E8F0FE;\n",
              "      border: none;\n",
              "      border-radius: 50%;\n",
              "      cursor: pointer;\n",
              "      display: none;\n",
              "      fill: #1967D2;\n",
              "      height: 32px;\n",
              "      padding: 0 0 0 0;\n",
              "      width: 32px;\n",
              "    }\n",
              "\n",
              "    .colab-df-convert:hover {\n",
              "      background-color: #E2EBFA;\n",
              "      box-shadow: 0px 1px 2px rgba(60, 64, 67, 0.3), 0px 1px 3px 1px rgba(60, 64, 67, 0.15);\n",
              "      fill: #174EA6;\n",
              "    }\n",
              "\n",
              "    [theme=dark] .colab-df-convert {\n",
              "      background-color: #3B4455;\n",
              "      fill: #D2E3FC;\n",
              "    }\n",
              "\n",
              "    [theme=dark] .colab-df-convert:hover {\n",
              "      background-color: #434B5C;\n",
              "      box-shadow: 0px 1px 3px 1px rgba(0, 0, 0, 0.15);\n",
              "      filter: drop-shadow(0px 1px 2px rgba(0, 0, 0, 0.3));\n",
              "      fill: #FFFFFF;\n",
              "    }\n",
              "  </style>\n",
              "\n",
              "      <script>\n",
              "        const buttonEl =\n",
              "          document.querySelector('#df-a2525874-be61-4756-baf3-72d28b7d012a button.colab-df-convert');\n",
              "        buttonEl.style.display =\n",
              "          google.colab.kernel.accessAllowed ? 'block' : 'none';\n",
              "\n",
              "        async function convertToInteractive(key) {\n",
              "          const element = document.querySelector('#df-a2525874-be61-4756-baf3-72d28b7d012a');\n",
              "          const dataTable =\n",
              "            await google.colab.kernel.invokeFunction('convertToInteractive',\n",
              "                                                     [key], {});\n",
              "          if (!dataTable) return;\n",
              "\n",
              "          const docLinkHtml = 'Like what you see? Visit the ' +\n",
              "            '<a target=\"_blank\" href=https://colab.research.google.com/notebooks/data_table.ipynb>data table notebook</a>'\n",
              "            + ' to learn more about interactive tables.';\n",
              "          element.innerHTML = '';\n",
              "          dataTable['output_type'] = 'display_data';\n",
              "          await google.colab.output.renderOutput(dataTable, element);\n",
              "          const docLink = document.createElement('div');\n",
              "          docLink.innerHTML = docLinkHtml;\n",
              "          element.appendChild(docLink);\n",
              "        }\n",
              "      </script>\n",
              "    </div>\n",
              "  </div>\n",
              "  "
            ]
          },
          "metadata": {},
          "execution_count": 167
        }
      ]
    },
    {
      "cell_type": "code",
      "source": [
        "data.describe()"
      ],
      "metadata": {
        "colab": {
          "base_uri": "https://localhost:8080/",
          "height": 300
        },
        "id": "Ybiwths4FjR1",
        "outputId": "524e5792-6966-471c-b01e-5ce89ee96a2c"
      },
      "execution_count": 168,
      "outputs": [
        {
          "output_type": "execute_result",
          "data": {
            "text/plain": [
              "           diameter        weight           red         green          blue\n",
              "count  10000.000000  10000.000000  10000.000000  10000.000000  10000.000000\n",
              "mean       9.975685    175.050792    153.847800     76.010600     11.363200\n",
              "std        1.947844     29.212119     10.432954     11.708433      9.061275\n",
              "min        2.960000     86.760000    115.000000     31.000000      2.000000\n",
              "25%        8.460000    152.220000    147.000000     68.000000      2.000000\n",
              "50%        9.980000    174.985000    154.000000     76.000000     10.000000\n",
              "75%       11.480000    197.722500    161.000000     84.000000     17.000000\n",
              "max       16.450000    261.510000    192.000000    116.000000     56.000000"
            ],
            "text/html": [
              "\n",
              "  <div id=\"df-29e39dd4-32f0-469c-a678-3d5e887847be\">\n",
              "    <div class=\"colab-df-container\">\n",
              "      <div>\n",
              "<style scoped>\n",
              "    .dataframe tbody tr th:only-of-type {\n",
              "        vertical-align: middle;\n",
              "    }\n",
              "\n",
              "    .dataframe tbody tr th {\n",
              "        vertical-align: top;\n",
              "    }\n",
              "\n",
              "    .dataframe thead th {\n",
              "        text-align: right;\n",
              "    }\n",
              "</style>\n",
              "<table border=\"1\" class=\"dataframe\">\n",
              "  <thead>\n",
              "    <tr style=\"text-align: right;\">\n",
              "      <th></th>\n",
              "      <th>diameter</th>\n",
              "      <th>weight</th>\n",
              "      <th>red</th>\n",
              "      <th>green</th>\n",
              "      <th>blue</th>\n",
              "    </tr>\n",
              "  </thead>\n",
              "  <tbody>\n",
              "    <tr>\n",
              "      <th>count</th>\n",
              "      <td>10000.000000</td>\n",
              "      <td>10000.000000</td>\n",
              "      <td>10000.000000</td>\n",
              "      <td>10000.000000</td>\n",
              "      <td>10000.000000</td>\n",
              "    </tr>\n",
              "    <tr>\n",
              "      <th>mean</th>\n",
              "      <td>9.975685</td>\n",
              "      <td>175.050792</td>\n",
              "      <td>153.847800</td>\n",
              "      <td>76.010600</td>\n",
              "      <td>11.363200</td>\n",
              "    </tr>\n",
              "    <tr>\n",
              "      <th>std</th>\n",
              "      <td>1.947844</td>\n",
              "      <td>29.212119</td>\n",
              "      <td>10.432954</td>\n",
              "      <td>11.708433</td>\n",
              "      <td>9.061275</td>\n",
              "    </tr>\n",
              "    <tr>\n",
              "      <th>min</th>\n",
              "      <td>2.960000</td>\n",
              "      <td>86.760000</td>\n",
              "      <td>115.000000</td>\n",
              "      <td>31.000000</td>\n",
              "      <td>2.000000</td>\n",
              "    </tr>\n",
              "    <tr>\n",
              "      <th>25%</th>\n",
              "      <td>8.460000</td>\n",
              "      <td>152.220000</td>\n",
              "      <td>147.000000</td>\n",
              "      <td>68.000000</td>\n",
              "      <td>2.000000</td>\n",
              "    </tr>\n",
              "    <tr>\n",
              "      <th>50%</th>\n",
              "      <td>9.980000</td>\n",
              "      <td>174.985000</td>\n",
              "      <td>154.000000</td>\n",
              "      <td>76.000000</td>\n",
              "      <td>10.000000</td>\n",
              "    </tr>\n",
              "    <tr>\n",
              "      <th>75%</th>\n",
              "      <td>11.480000</td>\n",
              "      <td>197.722500</td>\n",
              "      <td>161.000000</td>\n",
              "      <td>84.000000</td>\n",
              "      <td>17.000000</td>\n",
              "    </tr>\n",
              "    <tr>\n",
              "      <th>max</th>\n",
              "      <td>16.450000</td>\n",
              "      <td>261.510000</td>\n",
              "      <td>192.000000</td>\n",
              "      <td>116.000000</td>\n",
              "      <td>56.000000</td>\n",
              "    </tr>\n",
              "  </tbody>\n",
              "</table>\n",
              "</div>\n",
              "      <button class=\"colab-df-convert\" onclick=\"convertToInteractive('df-29e39dd4-32f0-469c-a678-3d5e887847be')\"\n",
              "              title=\"Convert this dataframe to an interactive table.\"\n",
              "              style=\"display:none;\">\n",
              "        \n",
              "  <svg xmlns=\"http://www.w3.org/2000/svg\" height=\"24px\"viewBox=\"0 0 24 24\"\n",
              "       width=\"24px\">\n",
              "    <path d=\"M0 0h24v24H0V0z\" fill=\"none\"/>\n",
              "    <path d=\"M18.56 5.44l.94 2.06.94-2.06 2.06-.94-2.06-.94-.94-2.06-.94 2.06-2.06.94zm-11 1L8.5 8.5l.94-2.06 2.06-.94-2.06-.94L8.5 2.5l-.94 2.06-2.06.94zm10 10l.94 2.06.94-2.06 2.06-.94-2.06-.94-.94-2.06-.94 2.06-2.06.94z\"/><path d=\"M17.41 7.96l-1.37-1.37c-.4-.4-.92-.59-1.43-.59-.52 0-1.04.2-1.43.59L10.3 9.45l-7.72 7.72c-.78.78-.78 2.05 0 2.83L4 21.41c.39.39.9.59 1.41.59.51 0 1.02-.2 1.41-.59l7.78-7.78 2.81-2.81c.8-.78.8-2.07 0-2.86zM5.41 20L4 18.59l7.72-7.72 1.47 1.35L5.41 20z\"/>\n",
              "  </svg>\n",
              "      </button>\n",
              "      \n",
              "  <style>\n",
              "    .colab-df-container {\n",
              "      display:flex;\n",
              "      flex-wrap:wrap;\n",
              "      gap: 12px;\n",
              "    }\n",
              "\n",
              "    .colab-df-convert {\n",
              "      background-color: #E8F0FE;\n",
              "      border: none;\n",
              "      border-radius: 50%;\n",
              "      cursor: pointer;\n",
              "      display: none;\n",
              "      fill: #1967D2;\n",
              "      height: 32px;\n",
              "      padding: 0 0 0 0;\n",
              "      width: 32px;\n",
              "    }\n",
              "\n",
              "    .colab-df-convert:hover {\n",
              "      background-color: #E2EBFA;\n",
              "      box-shadow: 0px 1px 2px rgba(60, 64, 67, 0.3), 0px 1px 3px 1px rgba(60, 64, 67, 0.15);\n",
              "      fill: #174EA6;\n",
              "    }\n",
              "\n",
              "    [theme=dark] .colab-df-convert {\n",
              "      background-color: #3B4455;\n",
              "      fill: #D2E3FC;\n",
              "    }\n",
              "\n",
              "    [theme=dark] .colab-df-convert:hover {\n",
              "      background-color: #434B5C;\n",
              "      box-shadow: 0px 1px 3px 1px rgba(0, 0, 0, 0.15);\n",
              "      filter: drop-shadow(0px 1px 2px rgba(0, 0, 0, 0.3));\n",
              "      fill: #FFFFFF;\n",
              "    }\n",
              "  </style>\n",
              "\n",
              "      <script>\n",
              "        const buttonEl =\n",
              "          document.querySelector('#df-29e39dd4-32f0-469c-a678-3d5e887847be button.colab-df-convert');\n",
              "        buttonEl.style.display =\n",
              "          google.colab.kernel.accessAllowed ? 'block' : 'none';\n",
              "\n",
              "        async function convertToInteractive(key) {\n",
              "          const element = document.querySelector('#df-29e39dd4-32f0-469c-a678-3d5e887847be');\n",
              "          const dataTable =\n",
              "            await google.colab.kernel.invokeFunction('convertToInteractive',\n",
              "                                                     [key], {});\n",
              "          if (!dataTable) return;\n",
              "\n",
              "          const docLinkHtml = 'Like what you see? Visit the ' +\n",
              "            '<a target=\"_blank\" href=https://colab.research.google.com/notebooks/data_table.ipynb>data table notebook</a>'\n",
              "            + ' to learn more about interactive tables.';\n",
              "          element.innerHTML = '';\n",
              "          dataTable['output_type'] = 'display_data';\n",
              "          await google.colab.output.renderOutput(dataTable, element);\n",
              "          const docLink = document.createElement('div');\n",
              "          docLink.innerHTML = docLinkHtml;\n",
              "          element.appendChild(docLink);\n",
              "        }\n",
              "      </script>\n",
              "    </div>\n",
              "  </div>\n",
              "  "
            ]
          },
          "metadata": {},
          "execution_count": 168
        }
      ]
    },
    {
      "cell_type": "markdown",
      "source": [
        "# The dataset is balance."
      ],
      "metadata": {
        "id": "WnbTC4Hwa1g4"
      }
    },
    {
      "cell_type": "code",
      "source": [
        "data.name.value_counts()"
      ],
      "metadata": {
        "colab": {
          "base_uri": "https://localhost:8080/"
        },
        "id": "leDCeV5SFwzW",
        "outputId": "1a649176-4dd0-4828-bdfd-7e93e76e8362"
      },
      "execution_count": 169,
      "outputs": [
        {
          "output_type": "execute_result",
          "data": {
            "text/plain": [
              "orange        5000\n",
              "grapefruit    5000\n",
              "Name: name, dtype: int64"
            ]
          },
          "metadata": {},
          "execution_count": 169
        }
      ]
    },
    {
      "cell_type": "markdown",
      "source": [
        "# let's shuffle the dataset."
      ],
      "metadata": {
        "id": "Y0xyyB1Ma6XV"
      }
    },
    {
      "cell_type": "code",
      "source": [
        "df_shuffled = data.sample(frac=1, random_state=42) # shuffle with random_state=42 for reproducibility"
      ],
      "metadata": {
        "id": "AEqtqVb2F6EO"
      },
      "execution_count": 170,
      "outputs": []
    },
    {
      "cell_type": "code",
      "source": [
        "df_shuffled = df_shuffled.reset_index()"
      ],
      "metadata": {
        "id": "YaLItYOzG420"
      },
      "execution_count": 171,
      "outputs": []
    },
    {
      "cell_type": "code",
      "source": [
        "df_shuffled.drop(['index'],axis = 1,  inplace = True)"
      ],
      "metadata": {
        "id": "LyBsd2evG6oL"
      },
      "execution_count": 172,
      "outputs": []
    },
    {
      "cell_type": "code",
      "source": [
        "df_shuffled"
      ],
      "metadata": {
        "colab": {
          "base_uri": "https://localhost:8080/",
          "height": 424
        },
        "id": "XxMQoQAVHEwV",
        "outputId": "9d73c754-331b-4a9f-8317-f93d217801e2"
      },
      "execution_count": 173,
      "outputs": [
        {
          "output_type": "execute_result",
          "data": {
            "text/plain": [
              "            name  diameter  weight  red  green  blue\n",
              "0     grapefruit     10.66  184.37  166     60    18\n",
              "1         orange     10.40  181.34  166    109    13\n",
              "2         orange      7.99  145.45  150     72     2\n",
              "3         orange     10.55  182.99  151     84     2\n",
              "4         orange     10.10  177.31  160     72     2\n",
              "...          ...       ...     ...  ...    ...   ...\n",
              "9995  grapefruit     10.18  176.92  145     77    15\n",
              "9996  grapefruit      9.32  162.56  159     69    28\n",
              "9997  grapefruit      9.72  169.85  150     67    10\n",
              "9998      orange      7.29  135.10  154     72     8\n",
              "9999  grapefruit     11.30  195.14  145     86    20\n",
              "\n",
              "[10000 rows x 6 columns]"
            ],
            "text/html": [
              "\n",
              "  <div id=\"df-6081d339-2be0-4caf-8b0b-6b46202aa829\">\n",
              "    <div class=\"colab-df-container\">\n",
              "      <div>\n",
              "<style scoped>\n",
              "    .dataframe tbody tr th:only-of-type {\n",
              "        vertical-align: middle;\n",
              "    }\n",
              "\n",
              "    .dataframe tbody tr th {\n",
              "        vertical-align: top;\n",
              "    }\n",
              "\n",
              "    .dataframe thead th {\n",
              "        text-align: right;\n",
              "    }\n",
              "</style>\n",
              "<table border=\"1\" class=\"dataframe\">\n",
              "  <thead>\n",
              "    <tr style=\"text-align: right;\">\n",
              "      <th></th>\n",
              "      <th>name</th>\n",
              "      <th>diameter</th>\n",
              "      <th>weight</th>\n",
              "      <th>red</th>\n",
              "      <th>green</th>\n",
              "      <th>blue</th>\n",
              "    </tr>\n",
              "  </thead>\n",
              "  <tbody>\n",
              "    <tr>\n",
              "      <th>0</th>\n",
              "      <td>grapefruit</td>\n",
              "      <td>10.66</td>\n",
              "      <td>184.37</td>\n",
              "      <td>166</td>\n",
              "      <td>60</td>\n",
              "      <td>18</td>\n",
              "    </tr>\n",
              "    <tr>\n",
              "      <th>1</th>\n",
              "      <td>orange</td>\n",
              "      <td>10.40</td>\n",
              "      <td>181.34</td>\n",
              "      <td>166</td>\n",
              "      <td>109</td>\n",
              "      <td>13</td>\n",
              "    </tr>\n",
              "    <tr>\n",
              "      <th>2</th>\n",
              "      <td>orange</td>\n",
              "      <td>7.99</td>\n",
              "      <td>145.45</td>\n",
              "      <td>150</td>\n",
              "      <td>72</td>\n",
              "      <td>2</td>\n",
              "    </tr>\n",
              "    <tr>\n",
              "      <th>3</th>\n",
              "      <td>orange</td>\n",
              "      <td>10.55</td>\n",
              "      <td>182.99</td>\n",
              "      <td>151</td>\n",
              "      <td>84</td>\n",
              "      <td>2</td>\n",
              "    </tr>\n",
              "    <tr>\n",
              "      <th>4</th>\n",
              "      <td>orange</td>\n",
              "      <td>10.10</td>\n",
              "      <td>177.31</td>\n",
              "      <td>160</td>\n",
              "      <td>72</td>\n",
              "      <td>2</td>\n",
              "    </tr>\n",
              "    <tr>\n",
              "      <th>...</th>\n",
              "      <td>...</td>\n",
              "      <td>...</td>\n",
              "      <td>...</td>\n",
              "      <td>...</td>\n",
              "      <td>...</td>\n",
              "      <td>...</td>\n",
              "    </tr>\n",
              "    <tr>\n",
              "      <th>9995</th>\n",
              "      <td>grapefruit</td>\n",
              "      <td>10.18</td>\n",
              "      <td>176.92</td>\n",
              "      <td>145</td>\n",
              "      <td>77</td>\n",
              "      <td>15</td>\n",
              "    </tr>\n",
              "    <tr>\n",
              "      <th>9996</th>\n",
              "      <td>grapefruit</td>\n",
              "      <td>9.32</td>\n",
              "      <td>162.56</td>\n",
              "      <td>159</td>\n",
              "      <td>69</td>\n",
              "      <td>28</td>\n",
              "    </tr>\n",
              "    <tr>\n",
              "      <th>9997</th>\n",
              "      <td>grapefruit</td>\n",
              "      <td>9.72</td>\n",
              "      <td>169.85</td>\n",
              "      <td>150</td>\n",
              "      <td>67</td>\n",
              "      <td>10</td>\n",
              "    </tr>\n",
              "    <tr>\n",
              "      <th>9998</th>\n",
              "      <td>orange</td>\n",
              "      <td>7.29</td>\n",
              "      <td>135.10</td>\n",
              "      <td>154</td>\n",
              "      <td>72</td>\n",
              "      <td>8</td>\n",
              "    </tr>\n",
              "    <tr>\n",
              "      <th>9999</th>\n",
              "      <td>grapefruit</td>\n",
              "      <td>11.30</td>\n",
              "      <td>195.14</td>\n",
              "      <td>145</td>\n",
              "      <td>86</td>\n",
              "      <td>20</td>\n",
              "    </tr>\n",
              "  </tbody>\n",
              "</table>\n",
              "<p>10000 rows × 6 columns</p>\n",
              "</div>\n",
              "      <button class=\"colab-df-convert\" onclick=\"convertToInteractive('df-6081d339-2be0-4caf-8b0b-6b46202aa829')\"\n",
              "              title=\"Convert this dataframe to an interactive table.\"\n",
              "              style=\"display:none;\">\n",
              "        \n",
              "  <svg xmlns=\"http://www.w3.org/2000/svg\" height=\"24px\"viewBox=\"0 0 24 24\"\n",
              "       width=\"24px\">\n",
              "    <path d=\"M0 0h24v24H0V0z\" fill=\"none\"/>\n",
              "    <path d=\"M18.56 5.44l.94 2.06.94-2.06 2.06-.94-2.06-.94-.94-2.06-.94 2.06-2.06.94zm-11 1L8.5 8.5l.94-2.06 2.06-.94-2.06-.94L8.5 2.5l-.94 2.06-2.06.94zm10 10l.94 2.06.94-2.06 2.06-.94-2.06-.94-.94-2.06-.94 2.06-2.06.94z\"/><path d=\"M17.41 7.96l-1.37-1.37c-.4-.4-.92-.59-1.43-.59-.52 0-1.04.2-1.43.59L10.3 9.45l-7.72 7.72c-.78.78-.78 2.05 0 2.83L4 21.41c.39.39.9.59 1.41.59.51 0 1.02-.2 1.41-.59l7.78-7.78 2.81-2.81c.8-.78.8-2.07 0-2.86zM5.41 20L4 18.59l7.72-7.72 1.47 1.35L5.41 20z\"/>\n",
              "  </svg>\n",
              "      </button>\n",
              "      \n",
              "  <style>\n",
              "    .colab-df-container {\n",
              "      display:flex;\n",
              "      flex-wrap:wrap;\n",
              "      gap: 12px;\n",
              "    }\n",
              "\n",
              "    .colab-df-convert {\n",
              "      background-color: #E8F0FE;\n",
              "      border: none;\n",
              "      border-radius: 50%;\n",
              "      cursor: pointer;\n",
              "      display: none;\n",
              "      fill: #1967D2;\n",
              "      height: 32px;\n",
              "      padding: 0 0 0 0;\n",
              "      width: 32px;\n",
              "    }\n",
              "\n",
              "    .colab-df-convert:hover {\n",
              "      background-color: #E2EBFA;\n",
              "      box-shadow: 0px 1px 2px rgba(60, 64, 67, 0.3), 0px 1px 3px 1px rgba(60, 64, 67, 0.15);\n",
              "      fill: #174EA6;\n",
              "    }\n",
              "\n",
              "    [theme=dark] .colab-df-convert {\n",
              "      background-color: #3B4455;\n",
              "      fill: #D2E3FC;\n",
              "    }\n",
              "\n",
              "    [theme=dark] .colab-df-convert:hover {\n",
              "      background-color: #434B5C;\n",
              "      box-shadow: 0px 1px 3px 1px rgba(0, 0, 0, 0.15);\n",
              "      filter: drop-shadow(0px 1px 2px rgba(0, 0, 0, 0.3));\n",
              "      fill: #FFFFFF;\n",
              "    }\n",
              "  </style>\n",
              "\n",
              "      <script>\n",
              "        const buttonEl =\n",
              "          document.querySelector('#df-6081d339-2be0-4caf-8b0b-6b46202aa829 button.colab-df-convert');\n",
              "        buttonEl.style.display =\n",
              "          google.colab.kernel.accessAllowed ? 'block' : 'none';\n",
              "\n",
              "        async function convertToInteractive(key) {\n",
              "          const element = document.querySelector('#df-6081d339-2be0-4caf-8b0b-6b46202aa829');\n",
              "          const dataTable =\n",
              "            await google.colab.kernel.invokeFunction('convertToInteractive',\n",
              "                                                     [key], {});\n",
              "          if (!dataTable) return;\n",
              "\n",
              "          const docLinkHtml = 'Like what you see? Visit the ' +\n",
              "            '<a target=\"_blank\" href=https://colab.research.google.com/notebooks/data_table.ipynb>data table notebook</a>'\n",
              "            + ' to learn more about interactive tables.';\n",
              "          element.innerHTML = '';\n",
              "          dataTable['output_type'] = 'display_data';\n",
              "          await google.colab.output.renderOutput(dataTable, element);\n",
              "          const docLink = document.createElement('div');\n",
              "          docLink.innerHTML = docLinkHtml;\n",
              "          element.appendChild(docLink);\n",
              "        }\n",
              "      </script>\n",
              "    </div>\n",
              "  </div>\n",
              "  "
            ]
          },
          "metadata": {},
          "execution_count": 173
        }
      ]
    },
    {
      "cell_type": "markdown",
      "source": [
        "# Define X and y"
      ],
      "metadata": {
        "id": "axrLLNknbACH"
      }
    },
    {
      "cell_type": "code",
      "source": [
        "X = df_shuffled.drop('name', axis = 1)\n",
        "y = df_shuffled['name']"
      ],
      "metadata": {
        "id": "v4penhCnHarO"
      },
      "execution_count": 174,
      "outputs": []
    },
    {
      "cell_type": "code",
      "source": [
        "X"
      ],
      "metadata": {
        "colab": {
          "base_uri": "https://localhost:8080/",
          "height": 424
        },
        "id": "DhKIDWo7LT-5",
        "outputId": "dc597241-c94d-42c6-bad8-16928879c01c"
      },
      "execution_count": 109,
      "outputs": [
        {
          "output_type": "execute_result",
          "data": {
            "text/plain": [
              "      diameter   weight       red     green      blue\n",
              "0       0.1066  0.18437  0.650980  0.235294  0.070588\n",
              "1       0.1040  0.18134  0.650980  0.427451  0.050980\n",
              "2       0.0799  0.14545  0.588235  0.282353  0.007843\n",
              "3       0.1055  0.18299  0.592157  0.329412  0.007843\n",
              "4       0.1010  0.17731  0.627451  0.282353  0.007843\n",
              "...        ...      ...       ...       ...       ...\n",
              "9995    0.1018  0.17692  0.568627  0.301961  0.058824\n",
              "9996    0.0932  0.16256  0.623529  0.270588  0.109804\n",
              "9997    0.0972  0.16985  0.588235  0.262745  0.039216\n",
              "9998    0.0729  0.13510  0.603922  0.282353  0.031373\n",
              "9999    0.1130  0.19514  0.568627  0.337255  0.078431\n",
              "\n",
              "[10000 rows x 5 columns]"
            ],
            "text/html": [
              "\n",
              "  <div id=\"df-9f43dcdc-9564-4cdc-a38a-cbdcad903f2f\">\n",
              "    <div class=\"colab-df-container\">\n",
              "      <div>\n",
              "<style scoped>\n",
              "    .dataframe tbody tr th:only-of-type {\n",
              "        vertical-align: middle;\n",
              "    }\n",
              "\n",
              "    .dataframe tbody tr th {\n",
              "        vertical-align: top;\n",
              "    }\n",
              "\n",
              "    .dataframe thead th {\n",
              "        text-align: right;\n",
              "    }\n",
              "</style>\n",
              "<table border=\"1\" class=\"dataframe\">\n",
              "  <thead>\n",
              "    <tr style=\"text-align: right;\">\n",
              "      <th></th>\n",
              "      <th>diameter</th>\n",
              "      <th>weight</th>\n",
              "      <th>red</th>\n",
              "      <th>green</th>\n",
              "      <th>blue</th>\n",
              "    </tr>\n",
              "  </thead>\n",
              "  <tbody>\n",
              "    <tr>\n",
              "      <th>0</th>\n",
              "      <td>0.1066</td>\n",
              "      <td>0.18437</td>\n",
              "      <td>0.650980</td>\n",
              "      <td>0.235294</td>\n",
              "      <td>0.070588</td>\n",
              "    </tr>\n",
              "    <tr>\n",
              "      <th>1</th>\n",
              "      <td>0.1040</td>\n",
              "      <td>0.18134</td>\n",
              "      <td>0.650980</td>\n",
              "      <td>0.427451</td>\n",
              "      <td>0.050980</td>\n",
              "    </tr>\n",
              "    <tr>\n",
              "      <th>2</th>\n",
              "      <td>0.0799</td>\n",
              "      <td>0.14545</td>\n",
              "      <td>0.588235</td>\n",
              "      <td>0.282353</td>\n",
              "      <td>0.007843</td>\n",
              "    </tr>\n",
              "    <tr>\n",
              "      <th>3</th>\n",
              "      <td>0.1055</td>\n",
              "      <td>0.18299</td>\n",
              "      <td>0.592157</td>\n",
              "      <td>0.329412</td>\n",
              "      <td>0.007843</td>\n",
              "    </tr>\n",
              "    <tr>\n",
              "      <th>4</th>\n",
              "      <td>0.1010</td>\n",
              "      <td>0.17731</td>\n",
              "      <td>0.627451</td>\n",
              "      <td>0.282353</td>\n",
              "      <td>0.007843</td>\n",
              "    </tr>\n",
              "    <tr>\n",
              "      <th>...</th>\n",
              "      <td>...</td>\n",
              "      <td>...</td>\n",
              "      <td>...</td>\n",
              "      <td>...</td>\n",
              "      <td>...</td>\n",
              "    </tr>\n",
              "    <tr>\n",
              "      <th>9995</th>\n",
              "      <td>0.1018</td>\n",
              "      <td>0.17692</td>\n",
              "      <td>0.568627</td>\n",
              "      <td>0.301961</td>\n",
              "      <td>0.058824</td>\n",
              "    </tr>\n",
              "    <tr>\n",
              "      <th>9996</th>\n",
              "      <td>0.0932</td>\n",
              "      <td>0.16256</td>\n",
              "      <td>0.623529</td>\n",
              "      <td>0.270588</td>\n",
              "      <td>0.109804</td>\n",
              "    </tr>\n",
              "    <tr>\n",
              "      <th>9997</th>\n",
              "      <td>0.0972</td>\n",
              "      <td>0.16985</td>\n",
              "      <td>0.588235</td>\n",
              "      <td>0.262745</td>\n",
              "      <td>0.039216</td>\n",
              "    </tr>\n",
              "    <tr>\n",
              "      <th>9998</th>\n",
              "      <td>0.0729</td>\n",
              "      <td>0.13510</td>\n",
              "      <td>0.603922</td>\n",
              "      <td>0.282353</td>\n",
              "      <td>0.031373</td>\n",
              "    </tr>\n",
              "    <tr>\n",
              "      <th>9999</th>\n",
              "      <td>0.1130</td>\n",
              "      <td>0.19514</td>\n",
              "      <td>0.568627</td>\n",
              "      <td>0.337255</td>\n",
              "      <td>0.078431</td>\n",
              "    </tr>\n",
              "  </tbody>\n",
              "</table>\n",
              "<p>10000 rows × 5 columns</p>\n",
              "</div>\n",
              "      <button class=\"colab-df-convert\" onclick=\"convertToInteractive('df-9f43dcdc-9564-4cdc-a38a-cbdcad903f2f')\"\n",
              "              title=\"Convert this dataframe to an interactive table.\"\n",
              "              style=\"display:none;\">\n",
              "        \n",
              "  <svg xmlns=\"http://www.w3.org/2000/svg\" height=\"24px\"viewBox=\"0 0 24 24\"\n",
              "       width=\"24px\">\n",
              "    <path d=\"M0 0h24v24H0V0z\" fill=\"none\"/>\n",
              "    <path d=\"M18.56 5.44l.94 2.06.94-2.06 2.06-.94-2.06-.94-.94-2.06-.94 2.06-2.06.94zm-11 1L8.5 8.5l.94-2.06 2.06-.94-2.06-.94L8.5 2.5l-.94 2.06-2.06.94zm10 10l.94 2.06.94-2.06 2.06-.94-2.06-.94-.94-2.06-.94 2.06-2.06.94z\"/><path d=\"M17.41 7.96l-1.37-1.37c-.4-.4-.92-.59-1.43-.59-.52 0-1.04.2-1.43.59L10.3 9.45l-7.72 7.72c-.78.78-.78 2.05 0 2.83L4 21.41c.39.39.9.59 1.41.59.51 0 1.02-.2 1.41-.59l7.78-7.78 2.81-2.81c.8-.78.8-2.07 0-2.86zM5.41 20L4 18.59l7.72-7.72 1.47 1.35L5.41 20z\"/>\n",
              "  </svg>\n",
              "      </button>\n",
              "      \n",
              "  <style>\n",
              "    .colab-df-container {\n",
              "      display:flex;\n",
              "      flex-wrap:wrap;\n",
              "      gap: 12px;\n",
              "    }\n",
              "\n",
              "    .colab-df-convert {\n",
              "      background-color: #E8F0FE;\n",
              "      border: none;\n",
              "      border-radius: 50%;\n",
              "      cursor: pointer;\n",
              "      display: none;\n",
              "      fill: #1967D2;\n",
              "      height: 32px;\n",
              "      padding: 0 0 0 0;\n",
              "      width: 32px;\n",
              "    }\n",
              "\n",
              "    .colab-df-convert:hover {\n",
              "      background-color: #E2EBFA;\n",
              "      box-shadow: 0px 1px 2px rgba(60, 64, 67, 0.3), 0px 1px 3px 1px rgba(60, 64, 67, 0.15);\n",
              "      fill: #174EA6;\n",
              "    }\n",
              "\n",
              "    [theme=dark] .colab-df-convert {\n",
              "      background-color: #3B4455;\n",
              "      fill: #D2E3FC;\n",
              "    }\n",
              "\n",
              "    [theme=dark] .colab-df-convert:hover {\n",
              "      background-color: #434B5C;\n",
              "      box-shadow: 0px 1px 3px 1px rgba(0, 0, 0, 0.15);\n",
              "      filter: drop-shadow(0px 1px 2px rgba(0, 0, 0, 0.3));\n",
              "      fill: #FFFFFF;\n",
              "    }\n",
              "  </style>\n",
              "\n",
              "      <script>\n",
              "        const buttonEl =\n",
              "          document.querySelector('#df-9f43dcdc-9564-4cdc-a38a-cbdcad903f2f button.colab-df-convert');\n",
              "        buttonEl.style.display =\n",
              "          google.colab.kernel.accessAllowed ? 'block' : 'none';\n",
              "\n",
              "        async function convertToInteractive(key) {\n",
              "          const element = document.querySelector('#df-9f43dcdc-9564-4cdc-a38a-cbdcad903f2f');\n",
              "          const dataTable =\n",
              "            await google.colab.kernel.invokeFunction('convertToInteractive',\n",
              "                                                     [key], {});\n",
              "          if (!dataTable) return;\n",
              "\n",
              "          const docLinkHtml = 'Like what you see? Visit the ' +\n",
              "            '<a target=\"_blank\" href=https://colab.research.google.com/notebooks/data_table.ipynb>data table notebook</a>'\n",
              "            + ' to learn more about interactive tables.';\n",
              "          element.innerHTML = '';\n",
              "          dataTable['output_type'] = 'display_data';\n",
              "          await google.colab.output.renderOutput(dataTable, element);\n",
              "          const docLink = document.createElement('div');\n",
              "          docLink.innerHTML = docLinkHtml;\n",
              "          element.appendChild(docLink);\n",
              "        }\n",
              "      </script>\n",
              "    </div>\n",
              "  </div>\n",
              "  "
            ]
          },
          "metadata": {},
          "execution_count": 109
        }
      ]
    },
    {
      "cell_type": "markdown",
      "source": [
        "# Split the dataset"
      ],
      "metadata": {
        "id": "dl33rfjSbCno"
      }
    },
    {
      "cell_type": "code",
      "source": [
        "from sklearn.model_selection import train_test_split\n",
        "X_train, X_test, y_train, y_test = train_test_split(X, y, test_size=0.2, random_state=42)"
      ],
      "metadata": {
        "id": "D-MnVHRyL88b"
      },
      "execution_count": 175,
      "outputs": []
    },
    {
      "cell_type": "markdown",
      "source": [
        "## Scale the X data"
      ],
      "metadata": {
        "id": "RgqT3mUwbE6p"
      }
    },
    {
      "cell_type": "code",
      "source": [
        "from sklearn.preprocessing import StandardScaler\n",
        "scaler = StandardScaler()\n",
        "scaler.fit(X_train) # just fit to training set to avoid overfitting and data leakage.\n",
        "X_train_scaled = scaler.transform(X_train)\n",
        "X_test_scaled = scaler.transform(X_test)"
      ],
      "metadata": {
        "id": "qOeCTgeFWUSN"
      },
      "execution_count": 176,
      "outputs": []
    },
    {
      "cell_type": "markdown",
      "source": [
        "# let's encode the labels."
      ],
      "metadata": {
        "id": "f8MIosn-bRTP"
      }
    },
    {
      "cell_type": "code",
      "source": [
        "from sklearn.preprocessing import OneHotEncoder\n",
        "one_hot_encoder = OneHotEncoder(sparse=False)\n",
        "train_labels_one_hot = one_hot_encoder.fit_transform(y_train.to_numpy().reshape(-1, 1))\n",
        "val_labels_one_hot = one_hot_encoder.transform(y_test.to_numpy().reshape(-1, 1))\n",
        "\n",
        "# Check what training labels look like\n",
        "train_labels_one_hot"
      ],
      "metadata": {
        "colab": {
          "base_uri": "https://localhost:8080/"
        },
        "id": "q_Gm1RIeLpph",
        "outputId": "ec236e06-7cf5-4ead-aceb-662184d2d210"
      },
      "execution_count": 178,
      "outputs": [
        {
          "output_type": "execute_result",
          "data": {
            "text/plain": [
              "array([[0., 1.],\n",
              "       [0., 1.],\n",
              "       [1., 0.],\n",
              "       ...,\n",
              "       [1., 0.],\n",
              "       [1., 0.],\n",
              "       [0., 1.]])"
            ]
          },
          "metadata": {},
          "execution_count": 178
        }
      ]
    },
    {
      "cell_type": "code",
      "source": [
        "from sklearn.preprocessing import LabelEncoder\n",
        "label_encoder = LabelEncoder()\n",
        "train_labels_encoded = label_encoder.fit_transform(y_train.to_numpy())\n",
        "val_labels_encoded = label_encoder.transform(y_test.to_numpy())\n",
        "# Check what training labels look like\n",
        "train_labels_encoded"
      ],
      "metadata": {
        "colab": {
          "base_uri": "https://localhost:8080/"
        },
        "id": "gwRWpHqTMT42",
        "outputId": "2ea76b58-36d5-4a74-eada-838ba376a3e8"
      },
      "execution_count": 179,
      "outputs": [
        {
          "output_type": "execute_result",
          "data": {
            "text/plain": [
              "array([1, 1, 0, ..., 0, 0, 1])"
            ]
          },
          "metadata": {},
          "execution_count": 179
        }
      ]
    },
    {
      "cell_type": "markdown",
      "source": [
        "# Base Model RandomForrest"
      ],
      "metadata": {
        "id": "PoXab4LHbWWY"
      }
    },
    {
      "cell_type": "code",
      "source": [
        "from sklearn.ensemble import RandomForestClassifier\n",
        "clf = RandomForestClassifier()\n",
        "clf.fit(X_train_scaled, train_labels_encoded)"
      ],
      "metadata": {
        "colab": {
          "base_uri": "https://localhost:8080/"
        },
        "id": "mTMtqdRiMeVQ",
        "outputId": "4c49fb6a-aaaa-4b25-fdee-949eb22eb988"
      },
      "execution_count": 191,
      "outputs": [
        {
          "output_type": "execute_result",
          "data": {
            "text/plain": [
              "RandomForestClassifier()"
            ]
          },
          "metadata": {},
          "execution_count": 191
        }
      ]
    },
    {
      "cell_type": "code",
      "source": [
        "clf.score(X_test_scaled, val_labels_encoded)"
      ],
      "metadata": {
        "colab": {
          "base_uri": "https://localhost:8080/"
        },
        "id": "DdD7WgM0M3QJ",
        "outputId": "53d4b8f9-a679-41c9-bae2-0efcfaf4a35e"
      },
      "execution_count": 192,
      "outputs": [
        {
          "output_type": "execute_result",
          "data": {
            "text/plain": [
              "0.957"
            ]
          },
          "metadata": {},
          "execution_count": 192
        }
      ]
    },
    {
      "cell_type": "markdown",
      "source": [
        "## Accuracy 95.7%"
      ],
      "metadata": {
        "id": "ZKLadPyLbap9"
      }
    },
    {
      "cell_type": "markdown",
      "source": [
        "# Plot Confusion Matrix"
      ],
      "metadata": {
        "id": "EB6_hIMnbefP"
      }
    },
    {
      "cell_type": "code",
      "source": [
        "from sklearn.metrics import confusion_matrix, plot_confusion_matrix, ConfusionMatrixDisplay"
      ],
      "metadata": {
        "id": "VHP_yN8pM-b5"
      },
      "execution_count": 182,
      "outputs": []
    },
    {
      "cell_type": "code",
      "source": [
        "y_pred = clf.predict(X_test)"
      ],
      "metadata": {
        "id": "0R8tdwZyNGbf"
      },
      "execution_count": 183,
      "outputs": []
    },
    {
      "cell_type": "code",
      "source": [
        "cm = confusion_matrix(val_labels_encoded, y_pred, labels=clf.classes_)"
      ],
      "metadata": {
        "id": "rDpfeQ8NNK2C"
      },
      "execution_count": 184,
      "outputs": []
    },
    {
      "cell_type": "code",
      "source": [
        "disp = ConfusionMatrixDisplay(confusion_matrix=cm,display_labels=clf.classes_)"
      ],
      "metadata": {
        "id": "y7FXM4USNSAP"
      },
      "execution_count": 185,
      "outputs": []
    },
    {
      "cell_type": "code",
      "source": [
        "disp.plot(cmap='Blues')"
      ],
      "metadata": {
        "colab": {
          "base_uri": "https://localhost:8080/",
          "height": 296
        },
        "id": "jvL0dnbINbnZ",
        "outputId": "211ff83d-ff19-4574-b177-acfeac095bc6"
      },
      "execution_count": 186,
      "outputs": [
        {
          "output_type": "execute_result",
          "data": {
            "text/plain": [
              "<sklearn.metrics._plot.confusion_matrix.ConfusionMatrixDisplay at 0x7f31bc3d5610>"
            ]
          },
          "metadata": {},
          "execution_count": 186
        },
        {
          "output_type": "display_data",
          "data": {
            "text/plain": [
              "<Figure size 432x288 with 2 Axes>"
            ],
            "image/png": "[encoded data removed]"
          },
          "metadata": {
            "needs_background": "light"
          }
        }
      ]
    },
    {
      "cell_type": "markdown",
      "source": [
        "**The confusion Matrix looks very good, as positive and negative false is around 3 to 5 %.**"
      ],
      "metadata": {
        "id": "ymtIZPYEbkKB"
      }
    },
    {
      "cell_type": "markdown",
      "source": [
        "# Deep Learning and DNN"
      ],
      "metadata": {
        "id": "GBNfNpt3b5ky"
      }
    },
    {
      "cell_type": "markdown",
      "source": [
        "### Let's define the checkpoint callback function "
      ],
      "metadata": {
        "id": "3hjN2nSob8JJ"
      }
    },
    {
      "cell_type": "code",
      "source": [
        "import os\n",
        "\n",
        "# Create a function to implement a ModelCheckpoint callback with a specific filename \n",
        "def create_model_checkpoint(model_name, save_path=\"model_experiments\"):\n",
        "  return tf.keras.callbacks.ModelCheckpoint(filepath=os.path.join(save_path, model_name), # create filepath to save model\n",
        "                                            verbose=0, # only output a limited amount of text\n",
        "                                            save_best_only=True)"
      ],
      "metadata": {
        "id": "oxqZ5oZYRMvM"
      },
      "execution_count": 218,
      "outputs": []
    },
    {
      "cell_type": "markdown",
      "source": [
        "# Model_1 simple DNN with 50 epochs"
      ],
      "metadata": {
        "id": "7nnTfR7ccDLb"
      }
    },
    {
      "cell_type": "code",
      "source": [
        "# Set the random seed\n",
        "tf.random.set_seed(42)\n",
        "\n",
        "# Create the model\n",
        "model_1 = tf.keras.Sequential([\n",
        "  tf.keras.layers.Dense(4, activation=\"relu\"),\n",
        "  tf.keras.layers.Dense(4, activation=\"relu\"),\n",
        "  tf.keras.layers.Dense(1, activation=\"sigmoid\")\n",
        "], name=\"model_1_dense\")\n",
        "\n",
        "# Compile the model\n",
        "model_1.compile(loss=\"binary_crossentropy\",\n",
        "                optimizer=tf.keras.optimizers.Adam(), \n",
        "                metrics=[\"accuracy\"])\n",
        "\n",
        "history = model_1.fit(X_train_scaled, train_labels_encoded, epochs=50,\n",
        "                      validation_data = (X_test_scaled, val_labels_encoded),\n",
        "                      callbacks= [create_model_checkpoint(model_name=model_1.name)])"
      ],
      "metadata": {
        "colab": {
          "base_uri": "https://localhost:8080/"
        },
        "id": "_FOUPfScOtMC",
        "outputId": "edfbe761-07a5-4660-9ec7-e942ee5dffe9"
      },
      "execution_count": 219,
      "outputs": [
        {
          "output_type": "stream",
          "name": "stdout",
          "text": [
            "Epoch 1/50\n",
            "250/250 [==============================] - 2s 5ms/step - loss: 0.6147 - accuracy: 0.6511 - val_loss: 0.4732 - val_accuracy: 0.8650\n",
            "Epoch 2/50\n",
            "250/250 [==============================] - 1s 5ms/step - loss: 0.3920 - accuracy: 0.9003 - val_loss: 0.3026 - val_accuracy: 0.9270\n",
            "Epoch 3/50\n",
            "250/250 [==============================] - 1s 5ms/step - loss: 0.2519 - accuracy: 0.9216 - val_loss: 0.1890 - val_accuracy: 0.9300\n",
            "Epoch 4/50\n",
            "250/250 [==============================] - 1s 5ms/step - loss: 0.1960 - accuracy: 0.9258 - val_loss: 0.1694 - val_accuracy: 0.9295\n",
            "Epoch 5/50\n",
            "250/250 [==============================] - 1s 5ms/step - loss: 0.1889 - accuracy: 0.9261 - val_loss: 0.1653 - val_accuracy: 0.9315\n",
            "Epoch 6/50\n",
            "250/250 [==============================] - 1s 5ms/step - loss: 0.1858 - accuracy: 0.9261 - val_loss: 0.1639 - val_accuracy: 0.9330\n",
            "Epoch 7/50\n",
            "250/250 [==============================] - 1s 5ms/step - loss: 0.1845 - accuracy: 0.9264 - val_loss: 0.1627 - val_accuracy: 0.9330\n",
            "Epoch 8/50\n",
            "250/250 [==============================] - 1s 5ms/step - loss: 0.1831 - accuracy: 0.9266 - val_loss: 0.1625 - val_accuracy: 0.9350\n",
            "Epoch 9/50\n",
            "250/250 [==============================] - 2s 7ms/step - loss: 0.1824 - accuracy: 0.9275 - val_loss: 0.1618 - val_accuracy: 0.9340\n",
            "Epoch 10/50\n",
            "250/250 [==============================] - 1s 6ms/step - loss: 0.1817 - accuracy: 0.9270 - val_loss: 0.1615 - val_accuracy: 0.9340\n",
            "Epoch 11/50\n",
            "250/250 [==============================] - 1s 5ms/step - loss: 0.1811 - accuracy: 0.9274 - val_loss: 0.1614 - val_accuracy: 0.9335\n",
            "Epoch 12/50\n",
            "250/250 [==============================] - 1s 5ms/step - loss: 0.1809 - accuracy: 0.9285 - val_loss: 0.1610 - val_accuracy: 0.9350\n",
            "Epoch 13/50\n",
            "250/250 [==============================] - 1s 3ms/step - loss: 0.1803 - accuracy: 0.9280 - val_loss: 0.1611 - val_accuracy: 0.9355\n",
            "Epoch 14/50\n",
            "250/250 [==============================] - 1s 5ms/step - loss: 0.1799 - accuracy: 0.9279 - val_loss: 0.1608 - val_accuracy: 0.9355\n",
            "Epoch 15/50\n",
            "250/250 [==============================] - 1s 5ms/step - loss: 0.1796 - accuracy: 0.9283 - val_loss: 0.1602 - val_accuracy: 0.9355\n",
            "Epoch 16/50\n",
            "250/250 [==============================] - 1s 5ms/step - loss: 0.1792 - accuracy: 0.9285 - val_loss: 0.1601 - val_accuracy: 0.9345\n",
            "Epoch 17/50\n",
            "250/250 [==============================] - 1s 5ms/step - loss: 0.1790 - accuracy: 0.9280 - val_loss: 0.1599 - val_accuracy: 0.9345\n",
            "Epoch 18/50\n",
            "250/250 [==============================] - 1s 5ms/step - loss: 0.1786 - accuracy: 0.9286 - val_loss: 0.1594 - val_accuracy: 0.9360\n",
            "Epoch 19/50\n",
            "250/250 [==============================] - 1s 5ms/step - loss: 0.1783 - accuracy: 0.9284 - val_loss: 0.1592 - val_accuracy: 0.9360\n",
            "Epoch 20/50\n",
            "250/250 [==============================] - 1s 5ms/step - loss: 0.1779 - accuracy: 0.9279 - val_loss: 0.1589 - val_accuracy: 0.9360\n",
            "Epoch 21/50\n",
            "250/250 [==============================] - 1s 5ms/step - loss: 0.1774 - accuracy: 0.9284 - val_loss: 0.1586 - val_accuracy: 0.9355\n",
            "Epoch 22/50\n",
            "250/250 [==============================] - 1s 5ms/step - loss: 0.1771 - accuracy: 0.9290 - val_loss: 0.1583 - val_accuracy: 0.9360\n",
            "Epoch 23/50\n",
            "250/250 [==============================] - 1s 5ms/step - loss: 0.1766 - accuracy: 0.9289 - val_loss: 0.1579 - val_accuracy: 0.9370\n",
            "Epoch 24/50\n",
            "250/250 [==============================] - 1s 5ms/step - loss: 0.1762 - accuracy: 0.9287 - val_loss: 0.1576 - val_accuracy: 0.9350\n",
            "Epoch 25/50\n",
            "250/250 [==============================] - 1s 5ms/step - loss: 0.1760 - accuracy: 0.9295 - val_loss: 0.1571 - val_accuracy: 0.9375\n",
            "Epoch 26/50\n",
            "250/250 [==============================] - 1s 3ms/step - loss: 0.1750 - accuracy: 0.9299 - val_loss: 0.1577 - val_accuracy: 0.9360\n",
            "Epoch 27/50\n",
            "250/250 [==============================] - 1s 5ms/step - loss: 0.1750 - accuracy: 0.9301 - val_loss: 0.1563 - val_accuracy: 0.9365\n",
            "Epoch 28/50\n",
            "250/250 [==============================] - 1s 4ms/step - loss: 0.1744 - accuracy: 0.9294 - val_loss: 0.1556 - val_accuracy: 0.9365\n",
            "Epoch 29/50\n",
            "250/250 [==============================] - 1s 5ms/step - loss: 0.1739 - accuracy: 0.9294 - val_loss: 0.1551 - val_accuracy: 0.9375\n",
            "Epoch 30/50\n",
            "250/250 [==============================] - 1s 5ms/step - loss: 0.1733 - accuracy: 0.9309 - val_loss: 0.1546 - val_accuracy: 0.9365\n",
            "Epoch 31/50\n",
            "250/250 [==============================] - 1s 4ms/step - loss: 0.1726 - accuracy: 0.9304 - val_loss: 0.1541 - val_accuracy: 0.9370\n",
            "Epoch 32/50\n",
            "250/250 [==============================] - 1s 3ms/step - loss: 0.1719 - accuracy: 0.9309 - val_loss: 0.1543 - val_accuracy: 0.9370\n",
            "Epoch 33/50\n",
            "250/250 [==============================] - 1s 5ms/step - loss: 0.1713 - accuracy: 0.9306 - val_loss: 0.1529 - val_accuracy: 0.9365\n",
            "Epoch 34/50\n",
            "250/250 [==============================] - 1s 5ms/step - loss: 0.1704 - accuracy: 0.9314 - val_loss: 0.1525 - val_accuracy: 0.9380\n",
            "Epoch 35/50\n",
            "250/250 [==============================] - 1s 3ms/step - loss: 0.1699 - accuracy: 0.9311 - val_loss: 0.1533 - val_accuracy: 0.9370\n",
            "Epoch 36/50\n",
            "250/250 [==============================] - 1s 5ms/step - loss: 0.1688 - accuracy: 0.9317 - val_loss: 0.1516 - val_accuracy: 0.9375\n",
            "Epoch 37/50\n",
            "250/250 [==============================] - 1s 5ms/step - loss: 0.1676 - accuracy: 0.9326 - val_loss: 0.1506 - val_accuracy: 0.9380\n",
            "Epoch 38/50\n",
            "250/250 [==============================] - 1s 4ms/step - loss: 0.1665 - accuracy: 0.9330 - val_loss: 0.1493 - val_accuracy: 0.9375\n",
            "Epoch 39/50\n",
            "250/250 [==============================] - 1s 5ms/step - loss: 0.1656 - accuracy: 0.9327 - val_loss: 0.1486 - val_accuracy: 0.9370\n",
            "Epoch 40/50\n",
            "250/250 [==============================] - 1s 4ms/step - loss: 0.1639 - accuracy: 0.9337 - val_loss: 0.1481 - val_accuracy: 0.9370\n",
            "Epoch 41/50\n",
            "250/250 [==============================] - 1s 5ms/step - loss: 0.1623 - accuracy: 0.9354 - val_loss: 0.1459 - val_accuracy: 0.9375\n",
            "Epoch 42/50\n",
            "250/250 [==============================] - 1s 5ms/step - loss: 0.1605 - accuracy: 0.9351 - val_loss: 0.1452 - val_accuracy: 0.9400\n",
            "Epoch 43/50\n",
            "250/250 [==============================] - 1s 4ms/step - loss: 0.1587 - accuracy: 0.9371 - val_loss: 0.1420 - val_accuracy: 0.9380\n",
            "Epoch 44/50\n",
            "250/250 [==============================] - 1s 5ms/step - loss: 0.1567 - accuracy: 0.9384 - val_loss: 0.1407 - val_accuracy: 0.9385\n",
            "Epoch 45/50\n",
            "250/250 [==============================] - 1s 4ms/step - loss: 0.1542 - accuracy: 0.9383 - val_loss: 0.1379 - val_accuracy: 0.9415\n",
            "Epoch 46/50\n",
            "250/250 [==============================] - 1s 4ms/step - loss: 0.1522 - accuracy: 0.9411 - val_loss: 0.1362 - val_accuracy: 0.9430\n",
            "Epoch 47/50\n",
            "250/250 [==============================] - 1s 5ms/step - loss: 0.1492 - accuracy: 0.9419 - val_loss: 0.1329 - val_accuracy: 0.9445\n",
            "Epoch 48/50\n",
            "250/250 [==============================] - 1s 5ms/step - loss: 0.1458 - accuracy: 0.9436 - val_loss: 0.1322 - val_accuracy: 0.9450\n",
            "Epoch 49/50\n",
            "250/250 [==============================] - 1s 4ms/step - loss: 0.1428 - accuracy: 0.9455 - val_loss: 0.1273 - val_accuracy: 0.9485\n",
            "Epoch 50/50\n",
            "250/250 [==============================] - 1s 5ms/step - loss: 0.1395 - accuracy: 0.9467 - val_loss: 0.1250 - val_accuracy: 0.9500\n"
          ]
        }
      ]
    },
    {
      "cell_type": "code",
      "source": [
        "model_1 = tf.keras.models.load_model(\"model_experiments/model_1_dense\")\n",
        "model_1.evaluate(X_test_scaled, val_labels_encoded)"
      ],
      "metadata": {
        "colab": {
          "base_uri": "https://localhost:8080/"
        },
        "id": "J7tw2b5rQ5IS",
        "outputId": "75e6a89f-7372-4368-e6df-37a3285cd631"
      },
      "execution_count": 220,
      "outputs": [
        {
          "output_type": "stream",
          "name": "stdout",
          "text": [
            "63/63 [==============================] - 0s 2ms/step - loss: 0.1250 - accuracy: 0.9500\n"
          ]
        },
        {
          "output_type": "execute_result",
          "data": {
            "text/plain": [
              "[0.12496744841337204, 0.949999988079071]"
            ]
          },
          "metadata": {},
          "execution_count": 220
        }
      ]
    },
    {
      "cell_type": "markdown",
      "source": [
        "# Model_2 simple DNN with 150 epochs"
      ],
      "metadata": {
        "id": "Fzu1cKNncJGb"
      }
    },
    {
      "cell_type": "code",
      "source": [
        "tf.random.set_seed(42)\n",
        "\n",
        "# Create the model\n",
        "model_2 = tf.keras.Sequential([\n",
        "  tf.keras.layers.Dense(4, activation=\"relu\"),\n",
        "  tf.keras.layers.Dense(4, activation=\"relu\"),\n",
        "  tf.keras.layers.Dense(1, activation=\"sigmoid\")\n",
        "], name=\"model_2_dense\")\n",
        "\n",
        "# Compile the model with the ideal learning rate\n",
        "model_2.compile(loss=\"binary_crossentropy\",\n",
        "                optimizer=tf.keras.optimizers.Adam(), \n",
        "                metrics=[\"accuracy\"])\n",
        "\n",
        "history_2 = model_2.fit(X_train_scaled, train_labels_encoded, epochs=150, verbose=0,\n",
        "                      validation_data = (X_test_scaled, val_labels_encoded),\n",
        "                      callbacks= [create_model_checkpoint(model_name=model_2.name)])"
      ],
      "metadata": {
        "id": "kKtufjaPSTta"
      },
      "execution_count": 221,
      "outputs": []
    },
    {
      "cell_type": "code",
      "source": [
        "model_2 = tf.keras.models.load_model(\"model_experiments/model_2_dense\")\n",
        "model_2.evaluate(X_test_scaled, val_labels_encoded)"
      ],
      "metadata": {
        "colab": {
          "base_uri": "https://localhost:8080/"
        },
        "id": "Ni1S3wujSaE5",
        "outputId": "17a53beb-8bd7-46ce-88db-6b6d7990b115"
      },
      "execution_count": 222,
      "outputs": [
        {
          "output_type": "stream",
          "name": "stdout",
          "text": [
            "63/63 [==============================] - 0s 2ms/step - loss: 0.0472 - accuracy: 0.9785\n"
          ]
        },
        {
          "output_type": "execute_result",
          "data": {
            "text/plain": [
              "[0.04719266667962074, 0.9785000085830688]"
            ]
          },
          "metadata": {},
          "execution_count": 222
        }
      ]
    },
    {
      "cell_type": "markdown",
      "source": [
        "## ***Model_2 beats the baseline of random forest***"
      ],
      "metadata": {
        "id": "FkZnfpMmcMuz"
      }
    },
    {
      "cell_type": "markdown",
      "source": [
        "# model_3 more complicated DNN"
      ],
      "metadata": {
        "id": "JGqHotcocY6D"
      }
    },
    {
      "cell_type": "code",
      "source": [
        "# Set the random seed\n",
        "tf.random.set_seed(42)\n",
        "\n",
        "# Create the model\n",
        "model_3 = tf.keras.Sequential([\n",
        "  tf.keras.layers.Dense(4, activation=\"relu\"),\n",
        "  tf.keras.layers.Dense(8, activation=\"relu\"),\n",
        "  tf.keras.layers.Dense(16, activation=\"relu\"),\n",
        "  tf.keras.layers.Dense(1, activation=\"sigmoid\")\n",
        "], name=\"model_3_dense\")\n",
        "\n",
        "# Compile the model \n",
        "model_3.compile(loss=\"binary_crossentropy\",\n",
        "                optimizer=tf.keras.optimizers.Adam(), \n",
        "                metrics=[\"accuracy\"])\n",
        "\n",
        "history_3 = model_3.fit(X_train_scaled, train_labels_encoded, epochs=50, verbose =0,\n",
        "                      validation_data = (X_test, val_labels_encoded),\n",
        "                      callbacks=[create_model_checkpoint(model_name=model_3.name)])"
      ],
      "metadata": {
        "id": "WKpFQUl7QdBn"
      },
      "execution_count": 224,
      "outputs": []
    },
    {
      "cell_type": "code",
      "source": [
        "model_3 = tf.keras.models.load_model(\"model_experiments/model_3_dense\")\n",
        "model_3.evaluate(X_test_scaled, val_labels_encoded)"
      ],
      "metadata": {
        "colab": {
          "base_uri": "https://localhost:8080/"
        },
        "id": "O0wvM_5LRvh_",
        "outputId": "280691ea-1a38-4020-cc95-36e3f2d572c2"
      },
      "execution_count": 225,
      "outputs": [
        {
          "output_type": "stream",
          "name": "stdout",
          "text": [
            "63/63 [==============================] - 0s 2ms/step - loss: 0.1588 - accuracy: 0.9340\n"
          ]
        },
        {
          "output_type": "execute_result",
          "data": {
            "text/plain": [
              "[0.15876613557338715, 0.9340000152587891]"
            ]
          },
          "metadata": {},
          "execution_count": 225
        }
      ]
    },
    {
      "cell_type": "markdown",
      "source": [
        "## Model_3_1 like model_3 with 150 epochs"
      ],
      "metadata": {
        "id": "goftPhhWchIP"
      }
    },
    {
      "cell_type": "code",
      "source": [
        "# Set the random seed\n",
        "tf.random.set_seed(42)\n",
        "\n",
        "# Create the model\n",
        "model_3_1 = tf.keras.Sequential([\n",
        "  tf.keras.layers.Dense(4, activation=\"relu\"),\n",
        "  tf.keras.layers.Dense(8, activation=\"relu\"),\n",
        "  tf.keras.layers.Dense(16, activation=\"relu\"),\n",
        "  tf.keras.layers.Dense(1, activation=\"sigmoid\")\n",
        "], name=\"model_3_1_dense\")\n",
        "\n",
        "# Compile the model \n",
        "model_3_1.compile(loss=\"binary_crossentropy\",\n",
        "                optimizer=tf.keras.optimizers.Adam(), \n",
        "                metrics=[\"accuracy\"])\n",
        "\n",
        "history_3_1 = model_3_1.fit(X_train_scaled, train_labels_encoded, epochs=150, verbose =0,\n",
        "                      validation_data = (X_test, val_labels_encoded),\n",
        "                      callbacks=[create_model_checkpoint(model_name=model_3_1.name)])"
      ],
      "metadata": {
        "id": "ZfrCOmxVZtKA"
      },
      "execution_count": 201,
      "outputs": []
    },
    {
      "cell_type": "code",
      "source": [
        "model_3_1 = tf.keras.models.load_model(\"model_experiments/model_3_1_dense\")\n",
        "model_3_1.evaluate(X_test_scaled, val_labels_encoded)"
      ],
      "metadata": {
        "colab": {
          "base_uri": "https://localhost:8080/"
        },
        "id": "2BoKd1QCZy2v",
        "outputId": "954ad419-79a1-49eb-c626-beabaa9a01a1"
      },
      "execution_count": 202,
      "outputs": [
        {
          "output_type": "stream",
          "name": "stdout",
          "text": [
            "63/63 [==============================] - 0s 2ms/step - loss: 0.1588 - accuracy: 0.9340\n"
          ]
        },
        {
          "output_type": "execute_result",
          "data": {
            "text/plain": [
              "[0.15876613557338715, 0.9340000152587891]"
            ]
          },
          "metadata": {},
          "execution_count": 202
        }
      ]
    },
    {
      "cell_type": "markdown",
      "source": [
        "## Model_4 and Model_4_1 other DNN with 50 and 150 epochs."
      ],
      "metadata": {
        "id": "yDozSi7Mcof1"
      }
    },
    {
      "cell_type": "code",
      "source": [
        "# Set the random seed\n",
        "tf.random.set_seed(42)\n",
        "\n",
        "# Create the model\n",
        "model_4 = tf.keras.Sequential([\n",
        "  tf.keras.layers.Dense(16, activation=\"relu\"),\n",
        "  tf.keras.layers.Dense(8, activation=\"relu\"),\n",
        "  tf.keras.layers.Dense(4, activation=\"relu\"),\n",
        "  tf.keras.layers.Dense(1, activation=\"sigmoid\")\n",
        "], name=\"model_4_dense\")\n",
        "\n",
        "# Compile the model \n",
        "model_4.compile(loss=\"binary_crossentropy\",\n",
        "                optimizer=tf.keras.optimizers.Adam(), \n",
        "                metrics=[\"accuracy\"])\n",
        "\n",
        "history_4 = model_4.fit(X_train_scaled, train_labels_encoded, epochs=50, verbose =0,\n",
        "                      validation_data = (X_test_scaled, val_labels_encoded),\n",
        "                      callbacks=[create_model_checkpoint(model_name=model_4.name)])"
      ],
      "metadata": {
        "id": "2TVcHXssSrH7"
      },
      "execution_count": 199,
      "outputs": []
    },
    {
      "cell_type": "code",
      "source": [
        "model_4 = tf.keras.models.load_model(\"model_experiments/model_4_dense\")\n",
        "model_4.evaluate(X_test_scaled, val_labels_encoded)"
      ],
      "metadata": {
        "colab": {
          "base_uri": "https://localhost:8080/"
        },
        "id": "1VpUpFdxW98t",
        "outputId": "943a4135-36d8-48ae-da05-fa8f8b8bfbcd"
      },
      "execution_count": 200,
      "outputs": [
        {
          "output_type": "stream",
          "name": "stdout",
          "text": [
            "63/63 [==============================] - 0s 5ms/step - loss: 0.0573 - accuracy: 0.9795\n"
          ]
        },
        {
          "output_type": "execute_result",
          "data": {
            "text/plain": [
              "[0.057271260768175125, 0.9794999957084656]"
            ]
          },
          "metadata": {},
          "execution_count": 200
        }
      ]
    },
    {
      "cell_type": "code",
      "source": [
        "# Set the random seed\n",
        "tf.random.set_seed(42)\n",
        "\n",
        "# Create the model\n",
        "model_4_1 = tf.keras.Sequential([\n",
        "  tf.keras.layers.Dense(16, activation=\"relu\"),\n",
        "  tf.keras.layers.Dense(8, activation=\"relu\"),\n",
        "  tf.keras.layers.Dense(4, activation=\"relu\"),\n",
        "  tf.keras.layers.Dense(1, activation=\"sigmoid\")\n",
        "], name=\"model_4_1_dense\")\n",
        "\n",
        "# Compile the model \n",
        "model_4_1.compile(loss=\"binary_crossentropy\",\n",
        "                optimizer=tf.keras.optimizers.Adam(), \n",
        "                metrics=[\"accuracy\"])\n",
        "\n",
        "history_4_1 = model_4_1.fit(X_train_scaled, train_labels_encoded, epochs=150, verbose =0,\n",
        "                      validation_data = (X_test_scaled, val_labels_encoded),\n",
        "                      callbacks=[create_model_checkpoint(model_name=model_4_1.name)])"
      ],
      "metadata": {
        "id": "HeBqsUcBXDqF"
      },
      "execution_count": 205,
      "outputs": []
    },
    {
      "cell_type": "code",
      "source": [
        "model_4_1 = tf.keras.models.load_model(\"model_experiments/model_4_1_dense\")\n",
        "model_4_1.evaluate(X_test_scaled, val_labels_encoded)"
      ],
      "metadata": {
        "colab": {
          "base_uri": "https://localhost:8080/"
        },
        "id": "feZYjQpkaC27",
        "outputId": "d05f9f23-2a35-455f-b455-9f1afd43282b"
      },
      "execution_count": 206,
      "outputs": [
        {
          "output_type": "stream",
          "name": "stdout",
          "text": [
            "63/63 [==============================] - 0s 2ms/step - loss: 0.0525 - accuracy: 0.9790\n"
          ]
        },
        {
          "output_type": "execute_result",
          "data": {
            "text/plain": [
              "[0.052518319338560104, 0.9789999723434448]"
            ]
          },
          "metadata": {},
          "execution_count": 206
        }
      ]
    },
    {
      "cell_type": "markdown",
      "source": [
        "# Conclusion\n",
        "\n",
        "A good chice of DNN can beat the base random forrest model. Among all model, model_4 had the best performance."
      ],
      "metadata": {
        "id": "LJr-CP4yc3yP"
      }
    }
  ]
}